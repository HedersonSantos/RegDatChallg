{
  "nbformat": 4,
  "nbformat_minor": 0,
  "metadata": {
    "colab": {
      "name": "Untitled7.ipynb",
      "provenance": [],
      "authorship_tag": "ABX9TyMj6kLJf7YcyYsQGdyWy2b/",
      "include_colab_link": true
    },
    "kernelspec": {
      "name": "python3",
      "display_name": "Python 3"
    },
    "language_info": {
      "name": "python"
    }
  },
  "cells": [
    {
      "cell_type": "markdown",
      "metadata": {
        "id": "view-in-github",
        "colab_type": "text"
      },
      "source": [
        "<a href=\"https://colab.research.google.com/github/HedersonSantos/RegDatChallg/blob/main/analise.ipynb\" target=\"_parent\"><img src=\"https://colab.research.google.com/assets/colab-badge.svg\" alt=\"Open In Colab\"/></a>"
      ]
    },
    {
      "cell_type": "code",
      "execution_count": 10,
      "metadata": {
        "id": "ybDpxspEewP1",
        "colab": {
          "base_uri": "https://localhost:8080/"
        },
        "outputId": "a630e860-7a61-4b06-f2cc-4f9f68c2f807"
      },
      "outputs": [
        {
          "output_type": "stream",
          "name": "stderr",
          "text": [
            "/usr/local/lib/python3.7/dist-packages/statsmodels/tools/_testing.py:19: FutureWarning: pandas.util.testing is deprecated. Use the functions in the public API at pandas.testing instead.\n",
            "  import pandas.util.testing as tm\n"
          ]
        }
      ],
      "source": [
        "import pandas as pd\n",
        "import numpy as np\n",
        "from google.colab import files, drive\n",
        "from pathlib import Path\n",
        "from sklearn.model_selection import train_test_split\n",
        "import matplotlib.pyplot as plt\n",
        "from statsmodels.formula.api import ols\n",
        "\n",
        "import seaborn as sns\n",
        "sns.set(rc={'figure.figsize':(11.7,8.27)})\n",
        "palette = sns.color_palette(\"bright\", 10)\n",
        "pd.set_option('display.max_columns', None)\n",
        "pd.set_option('display.max_rows', None)"
      ]
    },
    {
      "cell_type": "code",
      "source": [
        "#obtendo os arquivos de dados\n",
        "!wget https://raw.githubusercontent.com/HedersonSantos/RegDatChallg/main/data/train.csv\n",
        "!wget https://raw.githubusercontent.com/HedersonSantos/RegDatChallg/main/data/test.csv"
      ],
      "metadata": {
        "colab": {
          "base_uri": "https://localhost:8080/"
        },
        "id": "pyuET4BNhmUK",
        "outputId": "6f13d5e5-a70a-418a-d2c7-a854e94a15e3"
      },
      "execution_count": 2,
      "outputs": [
        {
          "output_type": "stream",
          "name": "stdout",
          "text": [
            "--2022-03-22 22:50:54--  https://raw.githubusercontent.com/HedersonSantos/RegDatChallg/main/data/train.csv\n",
            "Resolving raw.githubusercontent.com (raw.githubusercontent.com)... 185.199.108.133, 185.199.109.133, 185.199.110.133, ...\n",
            "Connecting to raw.githubusercontent.com (raw.githubusercontent.com)|185.199.108.133|:443... connected.\n",
            "HTTP request sent, awaiting response... 200 OK\n",
            "Length: 1397869 (1.3M) [text/plain]\n",
            "Saving to: ‘train.csv.1’\n",
            "\n",
            "\rtrain.csv.1           0%[                    ]       0  --.-KB/s               \rtrain.csv.1         100%[===================>]   1.33M  --.-KB/s    in 0.06s   \n",
            "\n",
            "2022-03-22 22:50:55 (24.0 MB/s) - ‘train.csv.1’ saved [1397869/1397869]\n",
            "\n",
            "--2022-03-22 22:50:55--  https://raw.githubusercontent.com/HedersonSantos/RegDatChallg/main/data/test.csv\n",
            "Resolving raw.githubusercontent.com (raw.githubusercontent.com)... 185.199.111.133, 185.199.109.133, 185.199.110.133, ...\n",
            "Connecting to raw.githubusercontent.com (raw.githubusercontent.com)|185.199.111.133|:443... connected.\n",
            "HTTP request sent, awaiting response... 200 OK\n",
            "Length: 573899 (560K) [text/plain]\n",
            "Saving to: ‘test.csv.1’\n",
            "\n",
            "test.csv.1          100%[===================>] 560.45K  --.-KB/s    in 0.04s   \n",
            "\n",
            "2022-03-22 22:50:55 (12.9 MB/s) - ‘test.csv.1’ saved [573899/573899]\n",
            "\n"
          ]
        }
      ]
    },
    {
      "cell_type": "code",
      "source": [
        "dfTrain = pd.read_csv('train.csv')\n",
        "dfTest = pd.read_csv('test.csv')\n",
        "dfTrain.info()"
      ],
      "metadata": {
        "colab": {
          "base_uri": "https://localhost:8080/"
        },
        "id": "hjcDMMMccS4J",
        "outputId": "8e3e0c66-a65b-428a-f8a2-31654910af08"
      },
      "execution_count": 22,
      "outputs": [
        {
          "output_type": "stream",
          "name": "stdout",
          "text": [
            "<class 'pandas.core.frame.DataFrame'>\n",
            "RangeIndex: 4141 entries, 0 to 4140\n",
            "Data columns (total 29 columns):\n",
            " #   Column  Non-Null Count  Dtype  \n",
            "---  ------  --------------  -----  \n",
            " 0   Id      4141 non-null   int64  \n",
            " 1   score   4141 non-null   float64\n",
            " 2   V3      4141 non-null   float64\n",
            " 3   V4      4141 non-null   float64\n",
            " 4   V5      4141 non-null   float64\n",
            " 5   V6      4141 non-null   float64\n",
            " 6   V7      4141 non-null   float64\n",
            " 7   V8      4141 non-null   float64\n",
            " 8   V9      4141 non-null   float64\n",
            " 9   V10     4141 non-null   float64\n",
            " 10  V11     4141 non-null   float64\n",
            " 11  V12     4141 non-null   float64\n",
            " 12  V13     4141 non-null   float64\n",
            " 13  V14     4141 non-null   float64\n",
            " 14  V15     4141 non-null   float64\n",
            " 15  V16     4141 non-null   float64\n",
            " 16  V17     4141 non-null   float64\n",
            " 17  V18     4141 non-null   float64\n",
            " 18  V19     4141 non-null   float64\n",
            " 19  V20     4141 non-null   float64\n",
            " 20  V21     4141 non-null   float64\n",
            " 21  V22     4141 non-null   float64\n",
            " 22  V23     4141 non-null   float64\n",
            " 23  V24     4141 non-null   float64\n",
            " 24  V25     4141 non-null   float64\n",
            " 25  V26     4141 non-null   float64\n",
            " 26  V27     4141 non-null   float64\n",
            " 27  V28     4141 non-null   float64\n",
            " 28  V29     4141 non-null   float64\n",
            "dtypes: float64(28), int64(1)\n",
            "memory usage: 938.3 KB\n"
          ]
        }
      ]
    },
    {
      "cell_type": "code",
      "source": [
        "preditoras = ['V3', 'V4', 'V5', 'V6', 'V7', 'V8', 'V9', 'V10', 'V11',\n",
        "       'V12', 'V13', 'V14', 'V15', 'V16', 'V17', 'V18', 'V19', 'V20', 'V21',\n",
        "       'V22', 'V23', 'V24', 'V25', 'V26', 'V27', 'V28', 'V29']\n",
        "X = dfTrain[preditoras].values\n",
        "y = dfTrain['score'].values\n",
        "X_treino, X_teste, y_treino, y_teste = train_test_split(X, y, test_size=0.2, random_state = 123)"
      ],
      "metadata": {
        "id": "u9zr-_Mbkp0n"
      },
      "execution_count": 25,
      "outputs": []
    },
    {
      "cell_type": "code",
      "source": [
        "from sklearn.feature_selection import SelectKBest\n",
        "from sklearn.feature_selection import mutual_info_regression\n",
        "# feature selection\n",
        "def select_features(X_treino, y_treino, X_teste):\n",
        "\t# configure to select all features\n",
        "\tfs = SelectKBest(score_func=mutual_info_regression, k='all')\n",
        "\t# learn relationship from treinoing data\n",
        "\tfs.fit(X_treino, y_treino)\n",
        "\t# transform treino input data\n",
        "\tX_treino_fs = fs.transform(X_treino)\n",
        "\t# transform teste input data\n",
        "\tX_teste_fs = fs.transform(X_teste)\n",
        "\treturn X_treino_fs, X_teste_fs, fs\n"
      ],
      "metadata": {
        "id": "gsdnjVzd4Gr3"
      },
      "execution_count": 27,
      "outputs": []
    },
    {
      "cell_type": "code",
      "source": [
        "# feature selection\n",
        "X_treino_fs, X_teste_fs, fs = select_features(X_treino, y_treino, X_teste)\n",
        "\n",
        "# what are scores for the features\n",
        "for i in range(len(fs.scores_)):\n",
        "\tprint('Feature %d: %f' % (i, fs.scores_[i]))\n",
        "    \n",
        "# plot the scores\n",
        "plt.bar([i for i in range(len(fs.scores_))], fs.scores_)\n",
        "plt.show()\n"
      ],
      "metadata": {
        "colab": {
          "base_uri": "https://localhost:8080/",
          "height": 969
        },
        "id": "z3jLuBbU4cV-",
        "outputId": "2065ee1d-acb2-40fd-b4fd-74e9f17a3595"
      },
      "execution_count": 28,
      "outputs": [
        {
          "output_type": "stream",
          "name": "stdout",
          "text": [
            "Feature 0: 0.065467\n",
            "Feature 1: 0.100079\n",
            "Feature 2: 0.068159\n",
            "Feature 3: 0.058283\n",
            "Feature 4: 0.068540\n",
            "Feature 5: 0.112798\n",
            "Feature 6: 0.093166\n",
            "Feature 7: 0.097508\n",
            "Feature 8: 0.109973\n",
            "Feature 9: 0.112403\n",
            "Feature 10: 0.097303\n",
            "Feature 11: 0.080659\n",
            "Feature 12: 0.108681\n",
            "Feature 13: 0.093599\n",
            "Feature 14: 0.212578\n",
            "Feature 15: 0.086031\n",
            "Feature 16: 0.000000\n",
            "Feature 17: 0.000228\n",
            "Feature 18: 0.000000\n",
            "Feature 19: 0.000000\n",
            "Feature 20: 0.016586\n",
            "Feature 21: 0.002117\n",
            "Feature 22: 0.000000\n",
            "Feature 23: 0.013369\n",
            "Feature 24: 0.000246\n",
            "Feature 25: 0.015978\n",
            "Feature 26: 0.000000\n"
          ]
        },
        {
          "output_type": "display_data",
          "data": {
            "text/plain": [
              "<Figure size 842.4x595.44 with 1 Axes>"
            ],
            "image/png": "[encoded data removed]"
          },
          "metadata": {}
        }
      ]
    },
    {
      "cell_type": "code",
      "source": [
        "#np.argmax(fs.scores_)\n",
        "importantes = np.argpartition(fs.scores_, -4)[-3:]\n",
        "n_preditoras = [preditoras[i] for i in importantes]\n",
        "X = dfTrain[n_preditoras].values\n",
        "\n"
      ],
      "metadata": {
        "id": "5-xEPf8v71lV"
      },
      "execution_count": 56,
      "outputs": []
    },
    {
      "cell_type": "code",
      "source": [
        "#Ajusta o modelo de regressão linear múltipla para o score\n",
        "\n",
        "modelo = ols('score ~ ' + ' + '.join(n_preditoras) ,data=dfTrain)\n",
        "\n",
        "res = modelo.fit()\n",
        "print(res.summary())"
      ],
      "metadata": {
        "id": "uX-GBL4k1ybm"
      },
      "execution_count": null,
      "outputs": []
    },
    {
      "cell_type": "code",
      "source": [
        ""
      ],
      "metadata": {
        "colab": {
          "base_uri": "https://localhost:8080/",
          "height": 35
        },
        "id": "61bnBAkr2KFu",
        "outputId": "335539f8-3015-443b-e1d9-12510299b144"
      },
      "execution_count": 20,
      "outputs": [
        {
          "output_type": "execute_result",
          "data": {
            "text/plain": [
              "'V3 + V4 + V5 + V6 + V7 + V8 + V9 + V10 + V11 + V12 + V13 + V14 + V15 + V16 + V17 + V18 + V19 + V20 + V21 + V22 + V23 + V24 + V25 + V26 + V27 + V28 + V29'"
            ],
            "application/vnd.google.colaboratory.intrinsic+json": {
              "type": "string"
            }
          },
          "metadata": {},
          "execution_count": 20
        }
      ]
    }
  ]
}