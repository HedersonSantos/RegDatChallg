{
  "nbformat": 4,
  "nbformat_minor": 0,
  "metadata": {
    "colab": {
      "name": "Untitled7.ipynb",
      "provenance": [],
      "authorship_tag": "ABX9TyMrSd6RiUEx/eoyJXezJQ/q",
      "include_colab_link": true
    },
    "kernelspec": {
      "name": "python3",
      "display_name": "Python 3"
    },
    "language_info": {
      "name": "python"
    }
  },
  "cells": [
    {
      "cell_type": "markdown",
      "metadata": {
        "id": "view-in-github",
        "colab_type": "text"
      },
      "source": [
        "<a href=\"https://colab.research.google.com/github/HedersonSantos/RegDatChallg/blob/main/analise.ipynb\" target=\"_parent\"><img src=\"https://colab.research.google.com/assets/colab-badge.svg\" alt=\"Open In Colab\"/></a>"
      ]
    },
    {
      "cell_type": "code",
      "execution_count": 2,
      "metadata": {
        "id": "ybDpxspEewP1",
        "colab": {
          "base_uri": "https://localhost:8080/"
        },
        "outputId": "d7a6144b-6821-4bc9-fcf8-b4d31c99b0ed"
      },
      "outputs": [
        {
          "output_type": "stream",
          "name": "stderr",
          "text": [
            "/usr/local/lib/python3.7/dist-packages/statsmodels/tools/_testing.py:19: FutureWarning: pandas.util.testing is deprecated. Use the functions in the public API at pandas.testing instead.\n",
            "  import pandas.util.testing as tm\n"
          ]
        }
      ],
      "source": [
        "import pandas as pd\n",
        "import numpy as np\n",
        "from google.colab import files, drive\n",
        "from pathlib import Path\n",
        "from sklearn.model_selection import train_test_split\n",
        "import matplotlib.pyplot as plt\n",
        "from statsmodels.formula.api import ols\n",
        "\n",
        "import seaborn as sns\n",
        "sns.set(rc={'figure.figsize':(11.7,8.27)})\n",
        "palette = sns.color_palette(\"bright\", 10)\n",
        "pd.set_option('display.max_columns', None)\n",
        "pd.set_option('display.max_rows', None)"
      ]
    },
    {
      "cell_type": "code",
      "source": [
        "#obtendo os arquivos de dados\n",
        "!wget https://raw.githubusercontent.com/HedersonSantos/RegDatChallg/main/data/train.csv\n",
        "!wget https://raw.githubusercontent.com/HedersonSantos/RegDatChallg/main/data/test.csv"
      ],
      "metadata": {
        "colab": {
          "base_uri": "https://localhost:8080/"
        },
        "id": "pyuET4BNhmUK",
        "outputId": "12b657e9-4cc6-4426-ad31-bcba26ebda0a"
      },
      "execution_count": 3,
      "outputs": [
        {
          "output_type": "stream",
          "name": "stdout",
          "text": [
            "--2022-03-23 22:34:56--  https://raw.githubusercontent.com/HedersonSantos/RegDatChallg/main/data/train.csv\n",
            "Resolving raw.githubusercontent.com (raw.githubusercontent.com)... 185.199.109.133, 185.199.108.133, 185.199.111.133, ...\n",
            "Connecting to raw.githubusercontent.com (raw.githubusercontent.com)|185.199.109.133|:443... connected.\n",
            "HTTP request sent, awaiting response... 200 OK\n",
            "Length: 1397869 (1.3M) [text/plain]\n",
            "Saving to: ‘train.csv’\n",
            "\n",
            "train.csv           100%[===================>]   1.33M  --.-KB/s    in 0.06s   \n",
            "\n",
            "2022-03-23 22:34:56 (20.8 MB/s) - ‘train.csv’ saved [1397869/1397869]\n",
            "\n",
            "--2022-03-23 22:34:56--  https://raw.githubusercontent.com/HedersonSantos/RegDatChallg/main/data/test.csv\n",
            "Resolving raw.githubusercontent.com (raw.githubusercontent.com)... 185.199.108.133, 185.199.109.133, 185.199.111.133, ...\n",
            "Connecting to raw.githubusercontent.com (raw.githubusercontent.com)|185.199.108.133|:443... connected.\n",
            "HTTP request sent, awaiting response... 200 OK\n",
            "Length: 573899 (560K) [text/plain]\n",
            "Saving to: ‘test.csv’\n",
            "\n",
            "test.csv            100%[===================>] 560.45K  --.-KB/s    in 0.05s   \n",
            "\n",
            "2022-03-23 22:34:57 (10.5 MB/s) - ‘test.csv’ saved [573899/573899]\n",
            "\n"
          ]
        }
      ]
    },
    {
      "cell_type": "code",
      "source": [
        "dfTrain = pd.read_csv('train.csv')\n",
        "dfTest = pd.read_csv('test.csv')\n",
        "dfTrain.info()"
      ],
      "metadata": {
        "colab": {
          "base_uri": "https://localhost:8080/"
        },
        "id": "hjcDMMMccS4J",
        "outputId": "09adde02-80c0-4088-d84d-cdbe7712b7e9"
      },
      "execution_count": 4,
      "outputs": [
        {
          "output_type": "stream",
          "name": "stdout",
          "text": [
            "<class 'pandas.core.frame.DataFrame'>\n",
            "RangeIndex: 4141 entries, 0 to 4140\n",
            "Data columns (total 29 columns):\n",
            " #   Column  Non-Null Count  Dtype  \n",
            "---  ------  --------------  -----  \n",
            " 0   Id      4141 non-null   int64  \n",
            " 1   score   4141 non-null   float64\n",
            " 2   V3      4141 non-null   float64\n",
            " 3   V4      4141 non-null   float64\n",
            " 4   V5      4141 non-null   float64\n",
            " 5   V6      4141 non-null   float64\n",
            " 6   V7      4141 non-null   float64\n",
            " 7   V8      4141 non-null   float64\n",
            " 8   V9      4141 non-null   float64\n",
            " 9   V10     4141 non-null   float64\n",
            " 10  V11     4141 non-null   float64\n",
            " 11  V12     4141 non-null   float64\n",
            " 12  V13     4141 non-null   float64\n",
            " 13  V14     4141 non-null   float64\n",
            " 14  V15     4141 non-null   float64\n",
            " 15  V16     4141 non-null   float64\n",
            " 16  V17     4141 non-null   float64\n",
            " 17  V18     4141 non-null   float64\n",
            " 18  V19     4141 non-null   float64\n",
            " 19  V20     4141 non-null   float64\n",
            " 20  V21     4141 non-null   float64\n",
            " 21  V22     4141 non-null   float64\n",
            " 22  V23     4141 non-null   float64\n",
            " 23  V24     4141 non-null   float64\n",
            " 24  V25     4141 non-null   float64\n",
            " 25  V26     4141 non-null   float64\n",
            " 26  V27     4141 non-null   float64\n",
            " 27  V28     4141 non-null   float64\n",
            " 28  V29     4141 non-null   float64\n",
            "dtypes: float64(28), int64(1)\n",
            "memory usage: 938.3 KB\n"
          ]
        }
      ]
    },
    {
      "cell_type": "code",
      "source": [
        "preditoras = ['V3', 'V4', 'V5', 'V6', 'V7', 'V8', 'V9', 'V10', 'V11',\n",
        "       'V12', 'V13', 'V14', 'V15', 'V16', 'V17', 'V18', 'V19', 'V20', 'V21',\n",
        "       'V22', 'V23', 'V24', 'V25', 'V26', 'V27', 'V28', 'V29']\n",
        "X = dfTrain[preditoras].values\n",
        "y = dfTrain['score'].values\n",
        "y = np.log(y)\n",
        "X_treino, X_teste, y_treino, y_teste = train_test_split(X, y, test_size=0.2, random_state = 123)"
      ],
      "metadata": {
        "id": "u9zr-_Mbkp0n"
      },
      "execution_count": 5,
      "outputs": []
    },
    {
      "cell_type": "code",
      "source": [
        "from sklearn.feature_selection import SelectKBest\n",
        "from sklearn.feature_selection import mutual_info_regression\n",
        "# feature selection\n",
        "def select_features(X_treino, y_treino, X_teste):\n",
        "\t# configure to select all features\n",
        "\tfs = SelectKBest(score_func=mutual_info_regression, k='all')\n",
        "\t# learn relationship from treinoing data\n",
        "\tfs.fit(X_treino, y_treino)\n",
        "\t# transform treino input data\n",
        "\tX_treino_fs = fs.transform(X_treino)\n",
        "\t# transform teste input data\n",
        "\tX_teste_fs = fs.transform(X_teste)\n",
        "\treturn X_treino_fs, X_teste_fs, fs\n"
      ],
      "metadata": {
        "id": "gsdnjVzd4Gr3"
      },
      "execution_count": 6,
      "outputs": []
    },
    {
      "cell_type": "code",
      "source": [
        "# feature selection\n",
        "X_treino_fs, X_teste_fs, fs = select_features(X_treino, y_treino, X_teste)\n",
        "\n",
        "# what are scores for the features\n",
        "for i in range(len(fs.scores_)):\n",
        "\tprint('Feature %d: %f' % (i, fs.scores_[i]))\n",
        "    \n",
        "# plot the scores\n",
        "plt.bar([i for i in range(len(fs.scores_))], fs.scores_)\n",
        "plt.show()\n"
      ],
      "metadata": {
        "colab": {
          "base_uri": "https://localhost:8080/",
          "height": 969
        },
        "id": "z3jLuBbU4cV-",
        "outputId": "6ec0091a-47fd-4e4d-d9b8-b8f3feda31e4"
      },
      "execution_count": 7,
      "outputs": [
        {
          "output_type": "stream",
          "name": "stdout",
          "text": [
            "Feature 0: 0.066950\n",
            "Feature 1: 0.098646\n",
            "Feature 2: 0.065147\n",
            "Feature 3: 0.056052\n",
            "Feature 4: 0.065711\n",
            "Feature 5: 0.113441\n",
            "Feature 6: 0.085582\n",
            "Feature 7: 0.096348\n",
            "Feature 8: 0.110205\n",
            "Feature 9: 0.111138\n",
            "Feature 10: 0.095992\n",
            "Feature 11: 0.067714\n",
            "Feature 12: 0.108413\n",
            "Feature 13: 0.082944\n",
            "Feature 14: 0.214325\n",
            "Feature 15: 0.083043\n",
            "Feature 16: 0.012148\n",
            "Feature 17: 0.006751\n",
            "Feature 18: 0.000000\n",
            "Feature 19: 0.000000\n",
            "Feature 20: 0.018852\n",
            "Feature 21: 0.003658\n",
            "Feature 22: 0.000000\n",
            "Feature 23: 0.013147\n",
            "Feature 24: 0.001307\n",
            "Feature 25: 0.018417\n",
            "Feature 26: 0.000000\n"
          ]
        },
        {
          "output_type": "display_data",
          "data": {
            "text/plain": [
              "<Figure size 842.4x595.44 with 1 Axes>"
            ],
            "image/png": "[encoded data removed]"
          },
          "metadata": {}
        }
      ]
    },
    {
      "cell_type": "code",
      "source": [
        "#np.argmax(fs.scores_)\n",
        "importantes = np.argpartition(fs.scores_, -4)[-10:]\n",
        "n_preditoras = [preditoras[i]  for i in importantes if preditoras[i] not in ['V8','V13','V10','V9']]\n",
        "X = dfTrain[n_preditoras].values\n",
        "\n"
      ],
      "metadata": {
        "id": "5-xEPf8v71lV"
      },
      "execution_count": 8,
      "outputs": []
    },
    {
      "cell_type": "code",
      "source": [
        "fig, ax =plt.subplots(2,3, figsize=(12, 8))#, sharex=True\n",
        "for i, c in enumerate(n_preditoras):\n",
        "  j = 0 if i<=2 else 1\n",
        "  k = i if i<=2 else i-3\n",
        "  data = dfTrain[[c]]\n",
        "  sns.boxplot(data=data, orient='h', ax=ax[j,k])"
      ],
      "metadata": {
        "id": "v2GuaY2W6M2F",
        "outputId": "93bcb2f7-6a6c-41ac-8da4-0aab0d5eecb8",
        "colab": {
          "base_uri": "https://localhost:8080/",
          "height": 485
        }
      },
      "execution_count": 33,
      "outputs": [
        {
          "output_type": "display_data",
          "data": {
            "text/plain": [
              "<Figure size 864x576 with 6 Axes>"
            ],
            "image/png": "[encoded data removed]"
          },
          "metadata": {}
        }
      ]
    },
    {
      "cell_type": "code",
      "source": [
        "#Ajusta o modelo de regressão linear múltipla para o score\n",
        "\n",
        "modelo = ols('score ~ ' + ' + '.join(n_preditoras) ,data=dfTrain)\n",
        "\n",
        "res = modelo.fit()\n",
        "print(res.summary())"
      ],
      "metadata": {
        "colab": {
          "base_uri": "https://localhost:8080/"
        },
        "id": "uX-GBL4k1ybm",
        "outputId": "28769530-5500-4b2a-d1f7-c5e0d77c1f04"
      },
      "execution_count": null,
      "outputs": [
        {
          "output_type": "stream",
          "name": "stdout",
          "text": [
            "                            OLS Regression Results                            \n",
            "==============================================================================\n",
            "Dep. Variable:                  score   R-squared:                       0.090\n",
            "Model:                            OLS   Adj. R-squared:                  0.089\n",
            "Method:                 Least Squares   F-statistic:                     68.04\n",
            "Date:                Tue, 22 Mar 2022   Prob (F-statistic):           5.06e-81\n",
            "Time:                        23:49:09   Log-Likelihood:                -15517.\n",
            "No. Observations:                4141   AIC:                         3.105e+04\n",
            "Df Residuals:                    4134   BIC:                         3.109e+04\n",
            "Df Model:                           6                                         \n",
            "Covariance Type:            nonrobust                                         \n",
            "==============================================================================\n",
            "                 coef    std err          t      P>|t|      [0.025      0.975]\n",
            "------------------------------------------------------------------------------\n",
            "Intercept     63.4112      2.760     22.975      0.000      58.000      68.822\n",
            "V18           22.5959      3.401      6.645      0.000      15.929      29.263\n",
            "V4         -3.241e+04   8153.032     -3.975      0.000   -4.84e+04   -1.64e+04\n",
            "V15           -0.6384      0.075     -8.505      0.000      -0.786      -0.491\n",
            "V11         -282.1364     31.247     -9.029      0.000    -343.397    -220.876\n",
            "V12          164.0620     24.523      6.690      0.000     115.985     212.139\n",
            "V17          -34.9006      2.522    -13.839      0.000     -39.845     -29.956\n",
            "==============================================================================\n",
            "Omnibus:                      121.614   Durbin-Watson:                   1.990\n",
            "Prob(Omnibus):                  0.000   Jarque-Bera (JB):              127.126\n",
            "Skew:                           0.411   Prob(JB):                     2.48e-28\n",
            "Kurtosis:                       2.755   Cond. No.                     1.13e+06\n",
            "==============================================================================\n",
            "\n",
            "Warnings:\n",
            "[1] Standard Errors assume that the covariance matrix of the errors is correctly specified.\n",
            "[2] The condition number is large, 1.13e+06. This might indicate that there are\n",
            "strong multicollinearity or other numerical problems.\n"
          ]
        }
      ]
    },
    {
      "cell_type": "code",
      "source": [
        "\n"
      ],
      "metadata": {
        "colab": {
          "base_uri": "https://localhost:8080/"
        },
        "id": "61bnBAkr2KFu",
        "outputId": "831ebf3a-9f80-460c-e1fa-160daedbe7d6"
      },
      "execution_count": null,
      "outputs": [
        {
          "output_type": "execute_result",
          "data": {
            "text/plain": [
              "False"
            ]
          },
          "metadata": {},
          "execution_count": 38
        }
      ]
    }
  ]
}