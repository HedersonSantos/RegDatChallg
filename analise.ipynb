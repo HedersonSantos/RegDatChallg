{
  "nbformat": 4,
  "nbformat_minor": 0,
  "metadata": {
    "colab": {
      "name": "Untitled7.ipynb",
      "provenance": [],
      "authorship_tag": "ABX9TyNthfayvWxsRfWQm68UsA66",
      "include_colab_link": true
    },
    "kernelspec": {
      "name": "python3",
      "display_name": "Python 3"
    },
    "language_info": {
      "name": "python"
    }
  },
  "cells": [
    {
      "cell_type": "markdown",
      "metadata": {
        "id": "view-in-github",
        "colab_type": "text"
      },
      "source": [
        "<a href=\"https://colab.research.google.com/github/HedersonSantos/RegDatChallg/blob/main/analise.ipynb\" target=\"_parent\"><img src=\"https://colab.research.google.com/assets/colab-badge.svg\" alt=\"Open In Colab\"/></a>"
      ]
    },
    {
      "cell_type": "code",
      "execution_count": 2,
      "metadata": {
        "id": "ybDpxspEewP1",
        "colab": {
          "base_uri": "https://localhost:8080/"
        },
        "outputId": "23547be0-0a21-475c-df40-89fc375ba66b"
      },
      "outputs": [
        {
          "output_type": "stream",
          "name": "stderr",
          "text": [
            "/usr/local/lib/python3.7/dist-packages/statsmodels/tools/_testing.py:19: FutureWarning: pandas.util.testing is deprecated. Use the functions in the public API at pandas.testing instead.\n",
            "  import pandas.util.testing as tm\n"
          ]
        }
      ],
      "source": [
        "import pandas as pd\n",
        "import numpy as np\n",
        "from google.colab import files, drive\n",
        "from pathlib import Path\n",
        "from sklearn.model_selection import train_test_split\n",
        "import matplotlib.pyplot as plt\n",
        "from statsmodels.formula.api import ols\n",
        "\n",
        "import seaborn as sns\n",
        "sns.set(rc={'figure.figsize':(11.7,8.27)})\n",
        "palette = sns.color_palette(\"bright\", 10)\n",
        "pd.set_option('display.max_columns', None)\n",
        "pd.set_option('display.max_rows', None)"
      ]
    },
    {
      "cell_type": "code",
      "source": [
        "#obtendo os arquivos de dados\n",
        "!wget https://raw.githubusercontent.com/HedersonSantos/RegDatChallg/main/data/train.csv\n",
        "!wget https://raw.githubusercontent.com/HedersonSantos/RegDatChallg/main/data/test.csv"
      ],
      "metadata": {
        "colab": {
          "base_uri": "https://localhost:8080/"
        },
        "id": "pyuET4BNhmUK",
        "outputId": "f90b9d97-0f23-45b3-aebd-3eb3c3e96add"
      },
      "execution_count": 3,
      "outputs": [
        {
          "output_type": "stream",
          "name": "stdout",
          "text": [
            "--2022-03-26 09:45:30--  https://raw.githubusercontent.com/HedersonSantos/RegDatChallg/main/data/train.csv\n",
            "Resolving raw.githubusercontent.com (raw.githubusercontent.com)... 185.199.109.133, 185.199.108.133, 185.199.110.133, ...\n",
            "Connecting to raw.githubusercontent.com (raw.githubusercontent.com)|185.199.109.133|:443... connected.\n",
            "HTTP request sent, awaiting response... 200 OK\n",
            "Length: 1397869 (1.3M) [text/plain]\n",
            "Saving to: ‘train.csv’\n",
            "\n",
            "train.csv           100%[===================>]   1.33M  --.-KB/s    in 0.04s   \n",
            "\n",
            "2022-03-26 09:45:31 (31.7 MB/s) - ‘train.csv’ saved [1397869/1397869]\n",
            "\n",
            "--2022-03-26 09:45:31--  https://raw.githubusercontent.com/HedersonSantos/RegDatChallg/main/data/test.csv\n",
            "Resolving raw.githubusercontent.com (raw.githubusercontent.com)... 185.199.108.133, 185.199.109.133, 185.199.110.133, ...\n",
            "Connecting to raw.githubusercontent.com (raw.githubusercontent.com)|185.199.108.133|:443... connected.\n",
            "HTTP request sent, awaiting response... 200 OK\n",
            "Length: 573899 (560K) [text/plain]\n",
            "Saving to: ‘test.csv’\n",
            "\n",
            "test.csv            100%[===================>] 560.45K  --.-KB/s    in 0.03s   \n",
            "\n",
            "2022-03-26 09:45:31 (17.4 MB/s) - ‘test.csv’ saved [573899/573899]\n",
            "\n"
          ]
        }
      ]
    },
    {
      "cell_type": "code",
      "source": [
        "dfTrain = pd.read_csv('train.csv')\n",
        "dfTest = pd.read_csv('test.csv')\n",
        "dfTrain.info()"
      ],
      "metadata": {
        "colab": {
          "base_uri": "https://localhost:8080/"
        },
        "id": "hjcDMMMccS4J",
        "outputId": "73dc8c2d-fd47-43a0-bd9a-5ee2f6626b8d"
      },
      "execution_count": 4,
      "outputs": [
        {
          "output_type": "stream",
          "name": "stdout",
          "text": [
            "<class 'pandas.core.frame.DataFrame'>\n",
            "RangeIndex: 4141 entries, 0 to 4140\n",
            "Data columns (total 29 columns):\n",
            " #   Column  Non-Null Count  Dtype  \n",
            "---  ------  --------------  -----  \n",
            " 0   Id      4141 non-null   int64  \n",
            " 1   score   4141 non-null   float64\n",
            " 2   V3      4141 non-null   float64\n",
            " 3   V4      4141 non-null   float64\n",
            " 4   V5      4141 non-null   float64\n",
            " 5   V6      4141 non-null   float64\n",
            " 6   V7      4141 non-null   float64\n",
            " 7   V8      4141 non-null   float64\n",
            " 8   V9      4141 non-null   float64\n",
            " 9   V10     4141 non-null   float64\n",
            " 10  V11     4141 non-null   float64\n",
            " 11  V12     4141 non-null   float64\n",
            " 12  V13     4141 non-null   float64\n",
            " 13  V14     4141 non-null   float64\n",
            " 14  V15     4141 non-null   float64\n",
            " 15  V16     4141 non-null   float64\n",
            " 16  V17     4141 non-null   float64\n",
            " 17  V18     4141 non-null   float64\n",
            " 18  V19     4141 non-null   float64\n",
            " 19  V20     4141 non-null   float64\n",
            " 20  V21     4141 non-null   float64\n",
            " 21  V22     4141 non-null   float64\n",
            " 22  V23     4141 non-null   float64\n",
            " 23  V24     4141 non-null   float64\n",
            " 24  V25     4141 non-null   float64\n",
            " 25  V26     4141 non-null   float64\n",
            " 26  V27     4141 non-null   float64\n",
            " 27  V28     4141 non-null   float64\n",
            " 28  V29     4141 non-null   float64\n",
            "dtypes: float64(28), int64(1)\n",
            "memory usage: 938.3 KB\n"
          ]
        }
      ]
    },
    {
      "cell_type": "code",
      "source": [
        "preditoras = ['V3', 'V4', 'V5', 'V6', 'V7', 'V8', 'V9', 'V10', 'V11',\n",
        "       'V12', 'V13', 'V14', 'V15', 'V16', 'V17', 'V18', 'V19', 'V20', 'V21',\n",
        "       'V22', 'V23', 'V24', 'V25', 'V26', 'V27', 'V28', 'V29']\n",
        "X = dfTrain[preditoras].values\n",
        "y = dfTrain['score'].values\n",
        "y = np.log(y)\n",
        "X_treino, X_teste, y_treino, y_teste = train_test_split(X, y, test_size=0.2, random_state = 123)"
      ],
      "metadata": {
        "id": "u9zr-_Mbkp0n"
      },
      "execution_count": 5,
      "outputs": []
    },
    {
      "cell_type": "code",
      "source": [
        "from sklearn.feature_selection import SelectKBest\n",
        "from sklearn.feature_selection import mutual_info_regression\n",
        "# feature selection\n",
        "def select_features(X_treino, y_treino, X_teste):\n",
        "\t# configure to select all features\n",
        "\tfs = SelectKBest(score_func=mutual_info_regression, k='all')\n",
        "\t# learn relationship from treinoing data\n",
        "\tfs.fit(X_treino, y_treino)\n",
        "\t# transform treino input data\n",
        "\tX_treino_fs = fs.transform(X_treino)\n",
        "\t# transform teste input data\n",
        "\tX_teste_fs = fs.transform(X_teste)\n",
        "\treturn X_treino_fs, X_teste_fs, fs\n"
      ],
      "metadata": {
        "id": "gsdnjVzd4Gr3"
      },
      "execution_count": 6,
      "outputs": []
    },
    {
      "cell_type": "code",
      "source": [
        "# feature selection\n",
        "X_treino_fs, X_teste_fs, fs = select_features(X_treino, y_treino, X_teste)\n",
        "\n",
        "# what are scores for the features\n",
        "for i in range(len(fs.scores_)):\n",
        "\tprint('Feature %d: %f' % (i, fs.scores_[i]))\n",
        "    \n",
        "# plot the scores\n",
        "plt.bar([i for i in range(len(fs.scores_))], fs.scores_)\n",
        "plt.show()\n"
      ],
      "metadata": {
        "colab": {
          "base_uri": "https://localhost:8080/",
          "height": 969
        },
        "id": "z3jLuBbU4cV-",
        "outputId": "d2d928c9-333a-4a0c-e946-e6b0f8f09f3a"
      },
      "execution_count": 7,
      "outputs": [
        {
          "output_type": "stream",
          "name": "stdout",
          "text": [
            "Feature 0: 0.067010\n",
            "Feature 1: 0.098524\n",
            "Feature 2: 0.065847\n",
            "Feature 3: 0.056533\n",
            "Feature 4: 0.065395\n",
            "Feature 5: 0.113283\n",
            "Feature 6: 0.086543\n",
            "Feature 7: 0.096140\n",
            "Feature 8: 0.110191\n",
            "Feature 9: 0.110829\n",
            "Feature 10: 0.095782\n",
            "Feature 11: 0.068429\n",
            "Feature 12: 0.107365\n",
            "Feature 13: 0.083306\n",
            "Feature 14: 0.212935\n",
            "Feature 15: 0.083207\n",
            "Feature 16: 0.011850\n",
            "Feature 17: 0.006747\n",
            "Feature 18: 0.000000\n",
            "Feature 19: 0.000000\n",
            "Feature 20: 0.018647\n",
            "Feature 21: 0.004002\n",
            "Feature 22: 0.000000\n",
            "Feature 23: 0.013150\n",
            "Feature 24: 0.001960\n",
            "Feature 25: 0.017762\n",
            "Feature 26: 0.000000\n"
          ]
        },
        {
          "output_type": "display_data",
          "data": {
            "text/plain": [
              "<Figure size 842.4x595.44 with 1 Axes>"
            ],
            "image/png": "[encoded data removed]"
          },
          "metadata": {}
        }
      ]
    },
    {
      "cell_type": "code",
      "source": [
        "#np.argmax(fs.scores_)\n",
        "importantes = np.argpartition(fs.scores_, -4)[-10:]\n",
        "n_preditoras = [preditoras[i]  for i in importantes if preditoras[i] not in ['V8','V13','V10','V9']]\n",
        "X = dfTrain[n_preditoras].values\n",
        "\n"
      ],
      "metadata": {
        "id": "5-xEPf8v71lV"
      },
      "execution_count": 8,
      "outputs": []
    },
    {
      "cell_type": "code",
      "source": [
        ""
      ],
      "metadata": {
        "id": "mDxFYUhnnGGX"
      },
      "execution_count": 8,
      "outputs": []
    },
    {
      "cell_type": "code",
      "source": [
        "def imprimeBoxPlot(dfTrain, n_preditoras, title=None):\n",
        "  fig, ax =plt.subplots(2,3, figsize=(12, 8))#, sharex=True\n",
        "  for i, c in enumerate(n_preditoras):\n",
        "    j = 0 if i<=2 else 1\n",
        "    k = i if i<=2 else i-3\n",
        "    data = dfTrain[[c]]\n",
        "    sns.boxplot(data=data, orient='h', ax=ax[j,k]).set_title(c + \" - \" + title)"
      ],
      "metadata": {
        "id": "v2GuaY2W6M2F"
      },
      "execution_count": 9,
      "outputs": []
    },
    {
      "cell_type": "code",
      "source": [
        "#filtrando outliers\n",
        "dados = dfTrain.copy()\n",
        "for c in n_preditoras:\n",
        "  # selecionando segundo o total\n",
        "  Q1 = dados[c].quantile(0.25)\n",
        "  Q3 = dados[c].quantile(0.75)\n",
        "  IQR = Q3 - Q1\n",
        "  dados = dados[(dados[c] >= Q1 - (IQR*1.5)) & (dados[c] <= Q3 + (IQR*1.5))]\n",
        "  "
      ],
      "metadata": {
        "id": "Uu7yuNBwACE7"
      },
      "execution_count": 10,
      "outputs": []
    },
    {
      "cell_type": "code",
      "source": [
        "#correlação\n",
        "display(dados[n_preditoras].corr('pearson'))\n",
        "display(dados[n_preditoras].corr('spearman'))"
      ],
      "metadata": {
        "id": "8h0Yi-fnnM-W",
        "outputId": "1274c25d-143c-4f12-effb-4fae3bbf9b9d",
        "colab": {
          "base_uri": "https://localhost:8080/",
          "height": 458
        }
      },
      "execution_count": 14,
      "outputs": [
        {
          "output_type": "display_data",
          "data": {
            "text/plain": [
              "          V16        V4       V15       V11       V12       V17\n",
              "V16  1.000000  0.542183 -0.572807  0.352248  0.396394  0.154511\n",
              "V4   0.542183  1.000000 -0.656834  0.472764  0.503625  0.465904\n",
              "V15 -0.572807 -0.656834  1.000000 -0.713264 -0.701938 -0.341391\n",
              "V11  0.352248  0.472764 -0.713264  1.000000  0.936071  0.243988\n",
              "V12  0.396394  0.503625 -0.701938  0.936071  1.000000  0.269343\n",
              "V17  0.154511  0.465904 -0.341391  0.243988  0.269343  1.000000"
            ],
            "text/html": [
              "\n",
              "  <div id=\"df-98e89b6f-cbac-4488-85e8-34577bbd9ebe\">\n",
              "    <div class=\"colab-df-container\">\n",
              "      <div>\n",
              "<style scoped>\n",
              "    .dataframe tbody tr th:only-of-type {\n",
              "        vertical-align: middle;\n",
              "    }\n",
              "\n",
              "    .dataframe tbody tr th {\n",
              "        vertical-align: top;\n",
              "    }\n",
              "\n",
              "    .dataframe thead th {\n",
              "        text-align: right;\n",
              "    }\n",
              "</style>\n",
              "<table border=\"1\" class=\"dataframe\">\n",
              "  <thead>\n",
              "    <tr style=\"text-align: right;\">\n",
              "      <th></th>\n",
              "      <th>V16</th>\n",
              "      <th>V4</th>\n",
              "      <th>V15</th>\n",
              "      <th>V11</th>\n",
              "      <th>V12</th>\n",
              "      <th>V17</th>\n",
              "    </tr>\n",
              "  </thead>\n",
              "  <tbody>\n",
              "    <tr>\n",
              "      <th>V16</th>\n",
              "      <td>1.000000</td>\n",
              "      <td>0.542183</td>\n",
              "      <td>-0.572807</td>\n",
              "      <td>0.352248</td>\n",
              "      <td>0.396394</td>\n",
              "      <td>0.154511</td>\n",
              "    </tr>\n",
              "    <tr>\n",
              "      <th>V4</th>\n",
              "      <td>0.542183</td>\n",
              "      <td>1.000000</td>\n",
              "      <td>-0.656834</td>\n",
              "      <td>0.472764</td>\n",
              "      <td>0.503625</td>\n",
              "      <td>0.465904</td>\n",
              "    </tr>\n",
              "    <tr>\n",
              "      <th>V15</th>\n",
              "      <td>-0.572807</td>\n",
              "      <td>-0.656834</td>\n",
              "      <td>1.000000</td>\n",
              "      <td>-0.713264</td>\n",
              "      <td>-0.701938</td>\n",
              "      <td>-0.341391</td>\n",
              "    </tr>\n",
              "    <tr>\n",
              "      <th>V11</th>\n",
              "      <td>0.352248</td>\n",
              "      <td>0.472764</td>\n",
              "      <td>-0.713264</td>\n",
              "      <td>1.000000</td>\n",
              "      <td>0.936071</td>\n",
              "      <td>0.243988</td>\n",
              "    </tr>\n",
              "    <tr>\n",
              "      <th>V12</th>\n",
              "      <td>0.396394</td>\n",
              "      <td>0.503625</td>\n",
              "      <td>-0.701938</td>\n",
              "      <td>0.936071</td>\n",
              "      <td>1.000000</td>\n",
              "      <td>0.269343</td>\n",
              "    </tr>\n",
              "    <tr>\n",
              "      <th>V17</th>\n",
              "      <td>0.154511</td>\n",
              "      <td>0.465904</td>\n",
              "      <td>-0.341391</td>\n",
              "      <td>0.243988</td>\n",
              "      <td>0.269343</td>\n",
              "      <td>1.000000</td>\n",
              "    </tr>\n",
              "  </tbody>\n",
              "</table>\n",
              "</div>\n",
              "      <button class=\"colab-df-convert\" onclick=\"convertToInteractive('df-98e89b6f-cbac-4488-85e8-34577bbd9ebe')\"\n",
              "              title=\"Convert this dataframe to an interactive table.\"\n",
              "              style=\"display:none;\">\n",
              "        \n",
              "  <svg xmlns=\"http://www.w3.org/2000/svg\" height=\"24px\"viewBox=\"0 0 24 24\"\n",
              "       width=\"24px\">\n",
              "    <path d=\"M0 0h24v24H0V0z\" fill=\"none\"/>\n",
              "    <path d=\"M18.56 5.44l.94 2.06.94-2.06 2.06-.94-2.06-.94-.94-2.06-.94 2.06-2.06.94zm-11 1L8.5 8.5l.94-2.06 2.06-.94-2.06-.94L8.5 2.5l-.94 2.06-2.06.94zm10 10l.94 2.06.94-2.06 2.06-.94-2.06-.94-.94-2.06-.94 2.06-2.06.94z\"/><path d=\"M17.41 7.96l-1.37-1.37c-.4-.4-.92-.59-1.43-.59-.52 0-1.04.2-1.43.59L10.3 9.45l-7.72 7.72c-.78.78-.78 2.05 0 2.83L4 21.41c.39.39.9.59 1.41.59.51 0 1.02-.2 1.41-.59l7.78-7.78 2.81-2.81c.8-.78.8-2.07 0-2.86zM5.41 20L4 18.59l7.72-7.72 1.47 1.35L5.41 20z\"/>\n",
              "  </svg>\n",
              "      </button>\n",
              "      \n",
              "  <style>\n",
              "    .colab-df-container {\n",
              "      display:flex;\n",
              "      flex-wrap:wrap;\n",
              "      gap: 12px;\n",
              "    }\n",
              "\n",
              "    .colab-df-convert {\n",
              "      background-color: #E8F0FE;\n",
              "      border: none;\n",
              "      border-radius: 50%;\n",
              "      cursor: pointer;\n",
              "      display: none;\n",
              "      fill: #1967D2;\n",
              "      height: 32px;\n",
              "      padding: 0 0 0 0;\n",
              "      width: 32px;\n",
              "    }\n",
              "\n",
              "    .colab-df-convert:hover {\n",
              "      background-color: #E2EBFA;\n",
              "      box-shadow: 0px 1px 2px rgba(60, 64, 67, 0.3), 0px 1px 3px 1px rgba(60, 64, 67, 0.15);\n",
              "      fill: #174EA6;\n",
              "    }\n",
              "\n",
              "    [theme=dark] .colab-df-convert {\n",
              "      background-color: #3B4455;\n",
              "      fill: #D2E3FC;\n",
              "    }\n",
              "\n",
              "    [theme=dark] .colab-df-convert:hover {\n",
              "      background-color: #434B5C;\n",
              "      box-shadow: 0px 1px 3px 1px rgba(0, 0, 0, 0.15);\n",
              "      filter: drop-shadow(0px 1px 2px rgba(0, 0, 0, 0.3));\n",
              "      fill: #FFFFFF;\n",
              "    }\n",
              "  </style>\n",
              "\n",
              "      <script>\n",
              "        const buttonEl =\n",
              "          document.querySelector('#df-98e89b6f-cbac-4488-85e8-34577bbd9ebe button.colab-df-convert');\n",
              "        buttonEl.style.display =\n",
              "          google.colab.kernel.accessAllowed ? 'block' : 'none';\n",
              "\n",
              "        async function convertToInteractive(key) {\n",
              "          const element = document.querySelector('#df-98e89b6f-cbac-4488-85e8-34577bbd9ebe');\n",
              "          const dataTable =\n",
              "            await google.colab.kernel.invokeFunction('convertToInteractive',\n",
              "                                                     [key], {});\n",
              "          if (!dataTable) return;\n",
              "\n",
              "          const docLinkHtml = 'Like what you see? Visit the ' +\n",
              "            '<a target=\"_blank\" href=https://colab.research.google.com/notebooks/data_table.ipynb>data table notebook</a>'\n",
              "            + ' to learn more about interactive tables.';\n",
              "          element.innerHTML = '';\n",
              "          dataTable['output_type'] = 'display_data';\n",
              "          await google.colab.output.renderOutput(dataTable, element);\n",
              "          const docLink = document.createElement('div');\n",
              "          docLink.innerHTML = docLinkHtml;\n",
              "          element.appendChild(docLink);\n",
              "        }\n",
              "      </script>\n",
              "    </div>\n",
              "  </div>\n",
              "  "
            ]
          },
          "metadata": {}
        },
        {
          "output_type": "display_data",
          "data": {
            "text/plain": [
              "          V16        V4       V15       V11       V12       V17\n",
              "V16  1.000000  0.562637 -0.569947  0.353742  0.413152  0.156970\n",
              "V4   0.562637  1.000000 -0.694983  0.524153  0.557201  0.491052\n",
              "V15 -0.569947 -0.694983  1.000000 -0.738135 -0.732553 -0.340880\n",
              "V11  0.353742  0.524153 -0.738135  1.000000  0.948056  0.262701\n",
              "V12  0.413152  0.557201 -0.732553  0.948056  1.000000  0.281695\n",
              "V17  0.156970  0.491052 -0.340880  0.262701  0.281695  1.000000"
            ],
            "text/html": [
              "\n",
              "  <div id=\"df-5840aacf-72ed-4728-82d5-e1fbb516b06d\">\n",
              "    <div class=\"colab-df-container\">\n",
              "      <div>\n",
              "<style scoped>\n",
              "    .dataframe tbody tr th:only-of-type {\n",
              "        vertical-align: middle;\n",
              "    }\n",
              "\n",
              "    .dataframe tbody tr th {\n",
              "        vertical-align: top;\n",
              "    }\n",
              "\n",
              "    .dataframe thead th {\n",
              "        text-align: right;\n",
              "    }\n",
              "</style>\n",
              "<table border=\"1\" class=\"dataframe\">\n",
              "  <thead>\n",
              "    <tr style=\"text-align: right;\">\n",
              "      <th></th>\n",
              "      <th>V16</th>\n",
              "      <th>V4</th>\n",
              "      <th>V15</th>\n",
              "      <th>V11</th>\n",
              "      <th>V12</th>\n",
              "      <th>V17</th>\n",
              "    </tr>\n",
              "  </thead>\n",
              "  <tbody>\n",
              "    <tr>\n",
              "      <th>V16</th>\n",
              "      <td>1.000000</td>\n",
              "      <td>0.562637</td>\n",
              "      <td>-0.569947</td>\n",
              "      <td>0.353742</td>\n",
              "      <td>0.413152</td>\n",
              "      <td>0.156970</td>\n",
              "    </tr>\n",
              "    <tr>\n",
              "      <th>V4</th>\n",
              "      <td>0.562637</td>\n",
              "      <td>1.000000</td>\n",
              "      <td>-0.694983</td>\n",
              "      <td>0.524153</td>\n",
              "      <td>0.557201</td>\n",
              "      <td>0.491052</td>\n",
              "    </tr>\n",
              "    <tr>\n",
              "      <th>V15</th>\n",
              "      <td>-0.569947</td>\n",
              "      <td>-0.694983</td>\n",
              "      <td>1.000000</td>\n",
              "      <td>-0.738135</td>\n",
              "      <td>-0.732553</td>\n",
              "      <td>-0.340880</td>\n",
              "    </tr>\n",
              "    <tr>\n",
              "      <th>V11</th>\n",
              "      <td>0.353742</td>\n",
              "      <td>0.524153</td>\n",
              "      <td>-0.738135</td>\n",
              "      <td>1.000000</td>\n",
              "      <td>0.948056</td>\n",
              "      <td>0.262701</td>\n",
              "    </tr>\n",
              "    <tr>\n",
              "      <th>V12</th>\n",
              "      <td>0.413152</td>\n",
              "      <td>0.557201</td>\n",
              "      <td>-0.732553</td>\n",
              "      <td>0.948056</td>\n",
              "      <td>1.000000</td>\n",
              "      <td>0.281695</td>\n",
              "    </tr>\n",
              "    <tr>\n",
              "      <th>V17</th>\n",
              "      <td>0.156970</td>\n",
              "      <td>0.491052</td>\n",
              "      <td>-0.340880</td>\n",
              "      <td>0.262701</td>\n",
              "      <td>0.281695</td>\n",
              "      <td>1.000000</td>\n",
              "    </tr>\n",
              "  </tbody>\n",
              "</table>\n",
              "</div>\n",
              "      <button class=\"colab-df-convert\" onclick=\"convertToInteractive('df-5840aacf-72ed-4728-82d5-e1fbb516b06d')\"\n",
              "              title=\"Convert this dataframe to an interactive table.\"\n",
              "              style=\"display:none;\">\n",
              "        \n",
              "  <svg xmlns=\"http://www.w3.org/2000/svg\" height=\"24px\"viewBox=\"0 0 24 24\"\n",
              "       width=\"24px\">\n",
              "    <path d=\"M0 0h24v24H0V0z\" fill=\"none\"/>\n",
              "    <path d=\"M18.56 5.44l.94 2.06.94-2.06 2.06-.94-2.06-.94-.94-2.06-.94 2.06-2.06.94zm-11 1L8.5 8.5l.94-2.06 2.06-.94-2.06-.94L8.5 2.5l-.94 2.06-2.06.94zm10 10l.94 2.06.94-2.06 2.06-.94-2.06-.94-.94-2.06-.94 2.06-2.06.94z\"/><path d=\"M17.41 7.96l-1.37-1.37c-.4-.4-.92-.59-1.43-.59-.52 0-1.04.2-1.43.59L10.3 9.45l-7.72 7.72c-.78.78-.78 2.05 0 2.83L4 21.41c.39.39.9.59 1.41.59.51 0 1.02-.2 1.41-.59l7.78-7.78 2.81-2.81c.8-.78.8-2.07 0-2.86zM5.41 20L4 18.59l7.72-7.72 1.47 1.35L5.41 20z\"/>\n",
              "  </svg>\n",
              "      </button>\n",
              "      \n",
              "  <style>\n",
              "    .colab-df-container {\n",
              "      display:flex;\n",
              "      flex-wrap:wrap;\n",
              "      gap: 12px;\n",
              "    }\n",
              "\n",
              "    .colab-df-convert {\n",
              "      background-color: #E8F0FE;\n",
              "      border: none;\n",
              "      border-radius: 50%;\n",
              "      cursor: pointer;\n",
              "      display: none;\n",
              "      fill: #1967D2;\n",
              "      height: 32px;\n",
              "      padding: 0 0 0 0;\n",
              "      width: 32px;\n",
              "    }\n",
              "\n",
              "    .colab-df-convert:hover {\n",
              "      background-color: #E2EBFA;\n",
              "      box-shadow: 0px 1px 2px rgba(60, 64, 67, 0.3), 0px 1px 3px 1px rgba(60, 64, 67, 0.15);\n",
              "      fill: #174EA6;\n",
              "    }\n",
              "\n",
              "    [theme=dark] .colab-df-convert {\n",
              "      background-color: #3B4455;\n",
              "      fill: #D2E3FC;\n",
              "    }\n",
              "\n",
              "    [theme=dark] .colab-df-convert:hover {\n",
              "      background-color: #434B5C;\n",
              "      box-shadow: 0px 1px 3px 1px rgba(0, 0, 0, 0.15);\n",
              "      filter: drop-shadow(0px 1px 2px rgba(0, 0, 0, 0.3));\n",
              "      fill: #FFFFFF;\n",
              "    }\n",
              "  </style>\n",
              "\n",
              "      <script>\n",
              "        const buttonEl =\n",
              "          document.querySelector('#df-5840aacf-72ed-4728-82d5-e1fbb516b06d button.colab-df-convert');\n",
              "        buttonEl.style.display =\n",
              "          google.colab.kernel.accessAllowed ? 'block' : 'none';\n",
              "\n",
              "        async function convertToInteractive(key) {\n",
              "          const element = document.querySelector('#df-5840aacf-72ed-4728-82d5-e1fbb516b06d');\n",
              "          const dataTable =\n",
              "            await google.colab.kernel.invokeFunction('convertToInteractive',\n",
              "                                                     [key], {});\n",
              "          if (!dataTable) return;\n",
              "\n",
              "          const docLinkHtml = 'Like what you see? Visit the ' +\n",
              "            '<a target=\"_blank\" href=https://colab.research.google.com/notebooks/data_table.ipynb>data table notebook</a>'\n",
              "            + ' to learn more about interactive tables.';\n",
              "          element.innerHTML = '';\n",
              "          dataTable['output_type'] = 'display_data';\n",
              "          await google.colab.output.renderOutput(dataTable, element);\n",
              "          const docLink = document.createElement('div');\n",
              "          docLink.innerHTML = docLinkHtml;\n",
              "          element.appendChild(docLink);\n",
              "        }\n",
              "      </script>\n",
              "    </div>\n",
              "  </div>\n",
              "  "
            ]
          },
          "metadata": {}
        }
      ]
    },
    {
      "cell_type": "code",
      "source": [
        "dados[n_preditoras].diff().hist(color=\"k\", alpha=0.5, bins=50);"
      ],
      "metadata": {
        "id": "T8DTDQP1ob-A",
        "outputId": "de743b5f-3368-4e51-88d5-d5935395091e",
        "colab": {
          "base_uri": "https://localhost:8080/",
          "height": 516
        }
      },
      "execution_count": 17,
      "outputs": [
        {
          "output_type": "display_data",
          "data": {
            "text/plain": [
              "<Figure size 842.4x595.44 with 6 Axes>"
            ],
            "image/png": "[encoded data removed]"
          },
          "metadata": {}
        }
      ]
    },
    {
      "cell_type": "code",
      "source": [
        "#box plot antes dos outliers\n",
        "imprimeBoxPlot(dfTrain, n_preditoras, 'com outliers')\n",
        "#box plot sem os outliers\n",
        "imprimeBoxPlot(dados, n_preditoras, 'sem outliers')"
      ],
      "metadata": {
        "colab": {
          "base_uri": "https://localhost:8080/",
          "height": 985
        },
        "id": "umkFscsCDfIK",
        "outputId": "e05af563-7417-40e1-9922-23f66d97e82e"
      },
      "execution_count": null,
      "outputs": [
        {
          "output_type": "display_data",
          "data": {
            "text/plain": [
              "<Figure size 864x576 with 6 Axes>"
            ],
            "image/png": "[encoded data removed]"
          },
          "metadata": {}
        },
        {
          "output_type": "display_data",
          "data": {
            "text/plain": [
              "<Figure size 864x576 with 6 Axes>"
            ],
            "image/png": "[encoded data removed]"
          },
          "metadata": {}
        }
      ]
    },
    {
      "cell_type": "code",
      "source": [
        "#Ajusta o modelo de regressão linear múltipla para o score\n",
        "\n",
        "modelo = ols('score ~ ' + ' + '.join(n_preditoras) ,data=dfTrain)\n",
        "\n",
        "res = modelo.fit()\n",
        "print(res.summary())"
      ],
      "metadata": {
        "colab": {
          "base_uri": "https://localhost:8080/"
        },
        "id": "uX-GBL4k1ybm",
        "outputId": "dc56e842-0875-4b0b-85dc-9603b55f8897"
      },
      "execution_count": null,
      "outputs": [
        {
          "output_type": "stream",
          "name": "stdout",
          "text": [
            "                            OLS Regression Results                            \n",
            "==============================================================================\n",
            "Dep. Variable:                  score   R-squared:                       0.090\n",
            "Model:                            OLS   Adj. R-squared:                  0.089\n",
            "Method:                 Least Squares   F-statistic:                     68.04\n",
            "Date:                Wed, 23 Mar 2022   Prob (F-statistic):           5.06e-81\n",
            "Time:                        23:14:32   Log-Likelihood:                -15517.\n",
            "No. Observations:                4141   AIC:                         3.105e+04\n",
            "Df Residuals:                    4134   BIC:                         3.109e+04\n",
            "Df Model:                           6                                         \n",
            "Covariance Type:            nonrobust                                         \n",
            "==============================================================================\n",
            "                 coef    std err          t      P>|t|      [0.025      0.975]\n",
            "------------------------------------------------------------------------------\n",
            "Intercept     63.4112      2.760     22.975      0.000      58.000      68.822\n",
            "V18           22.5959      3.401      6.645      0.000      15.929      29.263\n",
            "V4         -3.241e+04   8153.032     -3.975      0.000   -4.84e+04   -1.64e+04\n",
            "V15           -0.6384      0.075     -8.505      0.000      -0.786      -0.491\n",
            "V11         -282.1364     31.247     -9.029      0.000    -343.397    -220.876\n",
            "V12          164.0620     24.523      6.690      0.000     115.985     212.139\n",
            "V17          -34.9006      2.522    -13.839      0.000     -39.845     -29.956\n",
            "==============================================================================\n",
            "Omnibus:                      121.614   Durbin-Watson:                   1.990\n",
            "Prob(Omnibus):                  0.000   Jarque-Bera (JB):              127.126\n",
            "Skew:                           0.411   Prob(JB):                     2.48e-28\n",
            "Kurtosis:                       2.755   Cond. No.                     1.13e+06\n",
            "==============================================================================\n",
            "\n",
            "Warnings:\n",
            "[1] Standard Errors assume that the covariance matrix of the errors is correctly specified.\n",
            "[2] The condition number is large, 1.13e+06. This might indicate that there are\n",
            "strong multicollinearity or other numerical problems.\n"
          ]
        }
      ]
    },
    {
      "cell_type": "code",
      "source": [
        "#from sklearn.preprocessing import StandardScaler\n",
        "#from sklearn.preprocessing import MinMaxScaler\n",
        "#scaled_features = StandardScaler().fit_transform(dados)\n",
        "#scaled_features = MinMaxScaler().fit_transform(dados)\n",
        "#dados = pd.DataFrame(scaled_features, columns=dados.columns)"
      ],
      "metadata": {
        "id": "Qeeitw02FMFh"
      },
      "execution_count": null,
      "outputs": []
    },
    {
      "cell_type": "code",
      "source": [
        "modelo = ols('score ~ ' + ' + '.join(n_preditoras) ,data=dados)\n",
        "\n",
        "res = modelo.fit()\n",
        "print(res.summary())\n"
      ],
      "metadata": {
        "colab": {
          "base_uri": "https://localhost:8080/"
        },
        "id": "61bnBAkr2KFu",
        "outputId": "31846e20-fabc-4e33-88dd-fc2e9ab82d7a"
      },
      "execution_count": null,
      "outputs": [
        {
          "output_type": "stream",
          "name": "stdout",
          "text": [
            "                            OLS Regression Results                            \n",
            "==============================================================================\n",
            "Dep. Variable:                  score   R-squared:                       0.110\n",
            "Model:                            OLS   Adj. R-squared:                  0.109\n",
            "Method:                 Least Squares   F-statistic:                     74.65\n",
            "Date:                Wed, 23 Mar 2022   Prob (F-statistic):           3.99e-88\n",
            "Time:                        23:37:51   Log-Likelihood:                -13625.\n",
            "No. Observations:                3628   AIC:                         2.726e+04\n",
            "Df Residuals:                    3621   BIC:                         2.731e+04\n",
            "Df Model:                           6                                         \n",
            "Covariance Type:            nonrobust                                         \n",
            "==============================================================================\n",
            "                 coef    std err          t      P>|t|      [0.025      0.975]\n",
            "------------------------------------------------------------------------------\n",
            "Intercept     65.9646      3.262     20.224      0.000      59.570      72.359\n",
            "V18           19.7360      4.183      4.718      0.000      11.534      27.938\n",
            "V4         -3.167e+04    1.5e+04     -2.106      0.035   -6.12e+04   -2183.081\n",
            "V15           -0.6602      0.092     -7.181      0.000      -0.840      -0.480\n",
            "V11         -658.2764     66.906     -9.839      0.000    -789.454    -527.099\n",
            "V12          524.8423     51.413     10.208      0.000     424.042     625.643\n",
            "V17          -40.1987      2.850    -14.105      0.000     -45.787     -34.611\n",
            "==============================================================================\n",
            "Omnibus:                      101.238   Durbin-Watson:                   1.992\n",
            "Prob(Omnibus):                  0.000   Jarque-Bera (JB):               98.639\n",
            "Skew:                           0.368   Prob(JB):                     3.81e-22\n",
            "Kurtosis:                       2.666   Cond. No.                     1.99e+06\n",
            "==============================================================================\n",
            "\n",
            "Warnings:\n",
            "[1] Standard Errors assume that the covariance matrix of the errors is correctly specified.\n",
            "[2] The condition number is large, 1.99e+06. This might indicate that there are\n",
            "strong multicollinearity or other numerical problems.\n"
          ]
        }
      ]
    }
  ]
}