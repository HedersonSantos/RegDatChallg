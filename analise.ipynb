{
  "nbformat": 4,
  "nbformat_minor": 0,
  "metadata": {
    "colab": {
      "name": "Untitled7.ipynb",
      "provenance": [],
      "authorship_tag": "ABX9TyNmIBWRB6t6fQQRZ+kGwLVA",
      "include_colab_link": true
    },
    "kernelspec": {
      "name": "python3",
      "display_name": "Python 3"
    },
    "language_info": {
      "name": "python"
    }
  },
  "cells": [
    {
      "cell_type": "markdown",
      "metadata": {
        "id": "view-in-github",
        "colab_type": "text"
      },
      "source": [
        "<a href=\"https://colab.research.google.com/github/HedersonSantos/RegDatChallg/blob/main/analise.ipynb\" target=\"_parent\"><img src=\"https://colab.research.google.com/assets/colab-badge.svg\" alt=\"Open In Colab\"/></a>"
      ]
    },
    {
      "cell_type": "code",
      "execution_count": 64,
      "metadata": {
        "id": "ybDpxspEewP1"
      },
      "outputs": [],
      "source": [
        "import pandas as pd\n",
        "import numpy as np\n",
        "from google.colab import files, drive\n",
        "from pathlib import Path\n",
        "from sklearn.model_selection import train_test_split\n",
        "import matplotlib.pyplot as plt\n",
        "from statsmodels.formula.api import ols\n",
        "\n",
        "import seaborn as sns\n",
        "sns.set(rc={'figure.figsize':(11.7,8.27)})\n",
        "palette = sns.color_palette(\"bright\", 10)\n",
        "pd.set_option('display.max_columns', None)\n",
        "pd.set_option('display.max_rows', None)"
      ]
    },
    {
      "cell_type": "code",
      "source": [
        "#obtendo os arquivos de dados\n",
        "!wget https://raw.githubusercontent.com/HedersonSantos/RegDatChallg/main/data/train.csv\n",
        "!wget https://raw.githubusercontent.com/HedersonSantos/RegDatChallg/main/data/test.csv"
      ],
      "metadata": {
        "colab": {
          "base_uri": "https://localhost:8080/"
        },
        "id": "pyuET4BNhmUK",
        "outputId": "9a5a10bd-d70f-4344-f61a-98e309032c2f"
      },
      "execution_count": 65,
      "outputs": [
        {
          "output_type": "stream",
          "name": "stdout",
          "text": [
            "--2022-03-26 18:50:09--  https://raw.githubusercontent.com/HedersonSantos/RegDatChallg/main/data/train.csv\n",
            "Resolving raw.githubusercontent.com (raw.githubusercontent.com)... 185.199.108.133, 185.199.109.133, 185.199.110.133, ...\n",
            "Connecting to raw.githubusercontent.com (raw.githubusercontent.com)|185.199.108.133|:443... connected.\n",
            "HTTP request sent, awaiting response... 200 OK\n",
            "Length: 1397869 (1.3M) [text/plain]\n",
            "Saving to: ‘train.csv.1’\n",
            "\n",
            "train.csv.1         100%[===================>]   1.33M  --.-KB/s    in 0.06s   \n",
            "\n",
            "2022-03-26 18:50:10 (20.8 MB/s) - ‘train.csv.1’ saved [1397869/1397869]\n",
            "\n",
            "--2022-03-26 18:50:10--  https://raw.githubusercontent.com/HedersonSantos/RegDatChallg/main/data/test.csv\n",
            "Resolving raw.githubusercontent.com (raw.githubusercontent.com)... 185.199.110.133, 185.199.111.133, 185.199.108.133, ...\n",
            "Connecting to raw.githubusercontent.com (raw.githubusercontent.com)|185.199.110.133|:443... connected.\n",
            "HTTP request sent, awaiting response... 200 OK\n",
            "Length: 573899 (560K) [text/plain]\n",
            "Saving to: ‘test.csv.1’\n",
            "\n",
            "test.csv.1          100%[===================>] 560.45K  --.-KB/s    in 0.05s   \n",
            "\n",
            "2022-03-26 18:50:10 (11.0 MB/s) - ‘test.csv.1’ saved [573899/573899]\n",
            "\n"
          ]
        }
      ]
    },
    {
      "cell_type": "code",
      "source": [
        "dfTrain = pd.read_csv('train.csv')\n",
        "#dfTest = pd.read_csv('test.csv')\n",
        "dfTrain.info()"
      ],
      "metadata": {
        "colab": {
          "base_uri": "https://localhost:8080/"
        },
        "id": "hjcDMMMccS4J",
        "outputId": "9320c7b3-c9f4-4027-a916-eb127ae7f924"
      },
      "execution_count": 66,
      "outputs": [
        {
          "output_type": "stream",
          "name": "stdout",
          "text": [
            "<class 'pandas.core.frame.DataFrame'>\n",
            "RangeIndex: 4141 entries, 0 to 4140\n",
            "Data columns (total 29 columns):\n",
            " #   Column  Non-Null Count  Dtype  \n",
            "---  ------  --------------  -----  \n",
            " 0   Id      4141 non-null   int64  \n",
            " 1   score   4141 non-null   float64\n",
            " 2   V3      4141 non-null   float64\n",
            " 3   V4      4141 non-null   float64\n",
            " 4   V5      4141 non-null   float64\n",
            " 5   V6      4141 non-null   float64\n",
            " 6   V7      4141 non-null   float64\n",
            " 7   V8      4141 non-null   float64\n",
            " 8   V9      4141 non-null   float64\n",
            " 9   V10     4141 non-null   float64\n",
            " 10  V11     4141 non-null   float64\n",
            " 11  V12     4141 non-null   float64\n",
            " 12  V13     4141 non-null   float64\n",
            " 13  V14     4141 non-null   float64\n",
            " 14  V15     4141 non-null   float64\n",
            " 15  V16     4141 non-null   float64\n",
            " 16  V17     4141 non-null   float64\n",
            " 17  V18     4141 non-null   float64\n",
            " 18  V19     4141 non-null   float64\n",
            " 19  V20     4141 non-null   float64\n",
            " 20  V21     4141 non-null   float64\n",
            " 21  V22     4141 non-null   float64\n",
            " 22  V23     4141 non-null   float64\n",
            " 23  V24     4141 non-null   float64\n",
            " 24  V25     4141 non-null   float64\n",
            " 25  V26     4141 non-null   float64\n",
            " 26  V27     4141 non-null   float64\n",
            " 27  V28     4141 non-null   float64\n",
            " 28  V29     4141 non-null   float64\n",
            "dtypes: float64(28), int64(1)\n",
            "memory usage: 938.3 KB\n"
          ]
        }
      ]
    },
    {
      "cell_type": "code",
      "source": [
        "preditoras = ['V3', 'V4', 'V5', 'V6', 'V7', 'V8', 'V9', 'V10', 'V11',\n",
        "       'V12', 'V13', 'V14', 'V15', 'V16', 'V17', 'V18', 'V19', 'V20', 'V21',\n",
        "       'V22', 'V23', 'V24', 'V25', 'V26', 'V27', 'V28', 'V29']\n",
        "X = dfTrain[preditoras].values\n",
        "y = dfTrain['score'].values\n",
        "X_treino, X_teste, y_treino, y_teste = train_test_split(X, y, test_size=0.2, random_state = 123)"
      ],
      "metadata": {
        "id": "u9zr-_Mbkp0n"
      },
      "execution_count": 67,
      "outputs": []
    },
    {
      "cell_type": "code",
      "source": [
        ""
      ],
      "metadata": {
        "id": "Ur4rhxxVcMw3"
      },
      "execution_count": 67,
      "outputs": []
    },
    {
      "cell_type": "code",
      "source": [
        "from sklearn.feature_selection import SelectKBest\n",
        "from sklearn.feature_selection import mutual_info_regression\n",
        "# feature selection\n",
        "def select_features(X_treino, y_treino, X_teste):\n",
        "\t# configure to select all features\n",
        "\tfs = SelectKBest(score_func=mutual_info_regression, k='all')\n",
        "\t# learn relationship from treinoing data\n",
        "\tfs.fit(X_treino, y_treino)\n",
        "\t# transform treino input data\n",
        "\tX_treino_fs = fs.transform(X_treino)\n",
        "\t# transform teste input data\n",
        "\tX_teste_fs = fs.transform(X_teste)\n",
        "\treturn X_treino_fs, X_teste_fs, fs\n"
      ],
      "metadata": {
        "id": "gsdnjVzd4Gr3"
      },
      "execution_count": 68,
      "outputs": []
    },
    {
      "cell_type": "code",
      "source": [
        "# feature selection\n",
        "X_treino_fs, X_teste_fs, fs = select_features(X_treino, y_treino, X_teste)\n",
        "\n",
        "# what are scores for the features\n",
        "for i in range(len(fs.scores_)):\n",
        "\tprint('Feature %d: %f' % (i, fs.scores_[i]))\n",
        "    \n",
        "# plot the scores\n",
        "plt.bar([i for i in range(len(fs.scores_))], fs.scores_)\n",
        "plt.show()\n"
      ],
      "metadata": {
        "colab": {
          "base_uri": "https://localhost:8080/",
          "height": 969
        },
        "id": "z3jLuBbU4cV-",
        "outputId": "d13a1885-55be-46ca-ec0a-5c0f63e236ed"
      },
      "execution_count": 69,
      "outputs": [
        {
          "output_type": "stream",
          "name": "stdout",
          "text": [
            "Feature 0: 0.065710\n",
            "Feature 1: 0.099992\n",
            "Feature 2: 0.068212\n",
            "Feature 3: 0.057044\n",
            "Feature 4: 0.068360\n",
            "Feature 5: 0.112910\n",
            "Feature 6: 0.090879\n",
            "Feature 7: 0.096064\n",
            "Feature 8: 0.109232\n",
            "Feature 9: 0.112934\n",
            "Feature 10: 0.096238\n",
            "Feature 11: 0.079665\n",
            "Feature 12: 0.108782\n",
            "Feature 13: 0.093947\n",
            "Feature 14: 0.213526\n",
            "Feature 15: 0.086393\n",
            "Feature 16: 0.000000\n",
            "Feature 17: 0.000000\n",
            "Feature 18: 0.000000\n",
            "Feature 19: 0.000000\n",
            "Feature 20: 0.016810\n",
            "Feature 21: 0.002378\n",
            "Feature 22: 0.000000\n",
            "Feature 23: 0.013999\n",
            "Feature 24: 0.000850\n",
            "Feature 25: 0.015938\n",
            "Feature 26: 0.000000\n"
          ]
        },
        {
          "output_type": "display_data",
          "data": {
            "text/plain": [
              "<Figure size 842.4x595.44 with 1 Axes>"
            ],
            "image/png": "[encoded data removed]"
          },
          "metadata": {}
        }
      ]
    },
    {
      "cell_type": "code",
      "source": [
        "#np.argmax(fs.scores_)\n",
        "importantes = np.argpartition(fs.scores_, -4)[-15:]\n",
        "n_preditoras = [preditoras[i]  for i in importantes if preditoras[i] not in ['V8','V13','V10','V9']]\n",
        "#X = dfTrain[n_preditoras].values\n",
        "\n"
      ],
      "metadata": {
        "id": "5-xEPf8v71lV"
      },
      "execution_count": 81,
      "outputs": []
    },
    {
      "cell_type": "code",
      "source": [
        "def imprimeBoxPlot(dfTrain, n_preditoras, title=None):\n",
        "  if title==None: title='Box Plot'\n",
        "  fig, ax =plt.subplots(5,3, figsize=(12, 8))#, sharex=True\n",
        "  j=0\n",
        "  for i, c in enumerate(n_preditoras):\n",
        "    j=j if (i%3!=0) | (i==0) else j+1\n",
        "    k=i%3\n",
        "    data = dfTrain[[c]]\n",
        "    sns.boxplot(data=data, orient='h', ax=ax[j,k]).set_title(c + \" - \" + title)\n",
        "\n",
        "def imprimeScatter(dados, n_preditoras, title=None):\n",
        "  if title==None: title=' '\n",
        "  fig, ax =plt.subplots(2,3, figsize=(20, 8))#, sharex=True\n",
        "  j=0\n",
        "  for i, c in enumerate(n_preditoras):\n",
        "    j=j if (i%3!=0) | (i==0) else j+1\n",
        "    k=i%3\n",
        "    sns.scatterplot(data=dados, x='score', y=c, ax=ax[j,k]).set_title(c + \" - \" + title)\n"
      ],
      "metadata": {
        "id": "v2GuaY2W6M2F"
      },
      "execution_count": 130,
      "outputs": []
    },
    {
      "cell_type": "code",
      "source": [
        "#filtrando outliers\n",
        "dados = dfTrain.copy()\n",
        "for c in n_preditoras:\n",
        "  # selecionando segundo o total\n",
        "  Q1 = dados[c].quantile(0.25)\n",
        "  Q3 = dados[c].quantile(0.75)\n",
        "  IQR = Q3 - Q1\n",
        "  dados = dados[(dados[c] >= Q1 - (IQR*1.5)) & (dados[c] <= Q3 + (IQR*1.5))]\n",
        "  "
      ],
      "metadata": {
        "id": "Uu7yuNBwACE7"
      },
      "execution_count": 131,
      "outputs": []
    },
    {
      "cell_type": "code",
      "source": [
        "#correlação\n",
        "display(dados[n_preditoras].corr('pearson'))\n",
        "display(dados[n_preditoras].corr('spearman'))"
      ],
      "metadata": {
        "colab": {
          "base_uri": "https://localhost:8080/",
          "height": 646
        },
        "id": "8h0Yi-fnnM-W",
        "outputId": "3d41776e-51a8-43a6-ac55-43da7494a10b"
      },
      "execution_count": 132,
      "outputs": [
        {
          "output_type": "display_data",
          "data": {
            "text/plain": [
              "          V16       V18        V5       V14        V7        V4       V15  \\\n",
              "V16  1.000000  0.418497  0.279782  0.458492  0.279731  0.532060 -0.547359   \n",
              "V18  0.418497  1.000000  0.642715  0.569879  0.642751  0.701455 -0.639544   \n",
              "V5   0.279782  0.642715  1.000000  0.602660  0.999995  0.711581 -0.587826   \n",
              "V14  0.458492  0.569879  0.602660  1.000000  0.602635  0.590169 -0.627408   \n",
              "V7   0.279731  0.642751  0.999995  0.602635  1.000000  0.711596 -0.587812   \n",
              "V4   0.532060  0.701455  0.711581  0.590169  0.711596  1.000000 -0.635022   \n",
              "V15 -0.547359 -0.639544 -0.587826 -0.627408 -0.587812 -0.635022  1.000000   \n",
              "V12  0.366864  0.522765  0.422314  0.458107  0.422272  0.473640 -0.681525   \n",
              "V17  0.136864  0.396508  0.401633  0.049972  0.401709  0.481123 -0.335107   \n",
              "\n",
              "          V12       V17  \n",
              "V16  0.366864  0.136864  \n",
              "V18  0.522765  0.396508  \n",
              "V5   0.422314  0.401633  \n",
              "V14  0.458107  0.049972  \n",
              "V7   0.422272  0.401709  \n",
              "V4   0.473640  0.481123  \n",
              "V15 -0.681525 -0.335107  \n",
              "V12  1.000000  0.257421  \n",
              "V17  0.257421  1.000000  "
            ],
            "text/html": [
              "\n",
              "  <div id=\"df-1bbffd66-d922-4129-aab8-1fdc01ac1e8e\">\n",
              "    <div class=\"colab-df-container\">\n",
              "      <div>\n",
              "<style scoped>\n",
              "    .dataframe tbody tr th:only-of-type {\n",
              "        vertical-align: middle;\n",
              "    }\n",
              "\n",
              "    .dataframe tbody tr th {\n",
              "        vertical-align: top;\n",
              "    }\n",
              "\n",
              "    .dataframe thead th {\n",
              "        text-align: right;\n",
              "    }\n",
              "</style>\n",
              "<table border=\"1\" class=\"dataframe\">\n",
              "  <thead>\n",
              "    <tr style=\"text-align: right;\">\n",
              "      <th></th>\n",
              "      <th>V16</th>\n",
              "      <th>V18</th>\n",
              "      <th>V5</th>\n",
              "      <th>V14</th>\n",
              "      <th>V7</th>\n",
              "      <th>V4</th>\n",
              "      <th>V15</th>\n",
              "      <th>V12</th>\n",
              "      <th>V17</th>\n",
              "    </tr>\n",
              "  </thead>\n",
              "  <tbody>\n",
              "    <tr>\n",
              "      <th>V16</th>\n",
              "      <td>1.000000</td>\n",
              "      <td>0.418497</td>\n",
              "      <td>0.279782</td>\n",
              "      <td>0.458492</td>\n",
              "      <td>0.279731</td>\n",
              "      <td>0.532060</td>\n",
              "      <td>-0.547359</td>\n",
              "      <td>0.366864</td>\n",
              "      <td>0.136864</td>\n",
              "    </tr>\n",
              "    <tr>\n",
              "      <th>V18</th>\n",
              "      <td>0.418497</td>\n",
              "      <td>1.000000</td>\n",
              "      <td>0.642715</td>\n",
              "      <td>0.569879</td>\n",
              "      <td>0.642751</td>\n",
              "      <td>0.701455</td>\n",
              "      <td>-0.639544</td>\n",
              "      <td>0.522765</td>\n",
              "      <td>0.396508</td>\n",
              "    </tr>\n",
              "    <tr>\n",
              "      <th>V5</th>\n",
              "      <td>0.279782</td>\n",
              "      <td>0.642715</td>\n",
              "      <td>1.000000</td>\n",
              "      <td>0.602660</td>\n",
              "      <td>0.999995</td>\n",
              "      <td>0.711581</td>\n",
              "      <td>-0.587826</td>\n",
              "      <td>0.422314</td>\n",
              "      <td>0.401633</td>\n",
              "    </tr>\n",
              "    <tr>\n",
              "      <th>V14</th>\n",
              "      <td>0.458492</td>\n",
              "      <td>0.569879</td>\n",
              "      <td>0.602660</td>\n",
              "      <td>1.000000</td>\n",
              "      <td>0.602635</td>\n",
              "      <td>0.590169</td>\n",
              "      <td>-0.627408</td>\n",
              "      <td>0.458107</td>\n",
              "      <td>0.049972</td>\n",
              "    </tr>\n",
              "    <tr>\n",
              "      <th>V7</th>\n",
              "      <td>0.279731</td>\n",
              "      <td>0.642751</td>\n",
              "      <td>0.999995</td>\n",
              "      <td>0.602635</td>\n",
              "      <td>1.000000</td>\n",
              "      <td>0.711596</td>\n",
              "      <td>-0.587812</td>\n",
              "      <td>0.422272</td>\n",
              "      <td>0.401709</td>\n",
              "    </tr>\n",
              "    <tr>\n",
              "      <th>V4</th>\n",
              "      <td>0.532060</td>\n",
              "      <td>0.701455</td>\n",
              "      <td>0.711581</td>\n",
              "      <td>0.590169</td>\n",
              "      <td>0.711596</td>\n",
              "      <td>1.000000</td>\n",
              "      <td>-0.635022</td>\n",
              "      <td>0.473640</td>\n",
              "      <td>0.481123</td>\n",
              "    </tr>\n",
              "    <tr>\n",
              "      <th>V15</th>\n",
              "      <td>-0.547359</td>\n",
              "      <td>-0.639544</td>\n",
              "      <td>-0.587826</td>\n",
              "      <td>-0.627408</td>\n",
              "      <td>-0.587812</td>\n",
              "      <td>-0.635022</td>\n",
              "      <td>1.000000</td>\n",
              "      <td>-0.681525</td>\n",
              "      <td>-0.335107</td>\n",
              "    </tr>\n",
              "    <tr>\n",
              "      <th>V12</th>\n",
              "      <td>0.366864</td>\n",
              "      <td>0.522765</td>\n",
              "      <td>0.422314</td>\n",
              "      <td>0.458107</td>\n",
              "      <td>0.422272</td>\n",
              "      <td>0.473640</td>\n",
              "      <td>-0.681525</td>\n",
              "      <td>1.000000</td>\n",
              "      <td>0.257421</td>\n",
              "    </tr>\n",
              "    <tr>\n",
              "      <th>V17</th>\n",
              "      <td>0.136864</td>\n",
              "      <td>0.396508</td>\n",
              "      <td>0.401633</td>\n",
              "      <td>0.049972</td>\n",
              "      <td>0.401709</td>\n",
              "      <td>0.481123</td>\n",
              "      <td>-0.335107</td>\n",
              "      <td>0.257421</td>\n",
              "      <td>1.000000</td>\n",
              "    </tr>\n",
              "  </tbody>\n",
              "</table>\n",
              "</div>\n",
              "      <button class=\"colab-df-convert\" onclick=\"convertToInteractive('df-1bbffd66-d922-4129-aab8-1fdc01ac1e8e')\"\n",
              "              title=\"Convert this dataframe to an interactive table.\"\n",
              "              style=\"display:none;\">\n",
              "        \n",
              "  <svg xmlns=\"http://www.w3.org/2000/svg\" height=\"24px\"viewBox=\"0 0 24 24\"\n",
              "       width=\"24px\">\n",
              "    <path d=\"M0 0h24v24H0V0z\" fill=\"none\"/>\n",
              "    <path d=\"M18.56 5.44l.94 2.06.94-2.06 2.06-.94-2.06-.94-.94-2.06-.94 2.06-2.06.94zm-11 1L8.5 8.5l.94-2.06 2.06-.94-2.06-.94L8.5 2.5l-.94 2.06-2.06.94zm10 10l.94 2.06.94-2.06 2.06-.94-2.06-.94-.94-2.06-.94 2.06-2.06.94z\"/><path d=\"M17.41 7.96l-1.37-1.37c-.4-.4-.92-.59-1.43-.59-.52 0-1.04.2-1.43.59L10.3 9.45l-7.72 7.72c-.78.78-.78 2.05 0 2.83L4 21.41c.39.39.9.59 1.41.59.51 0 1.02-.2 1.41-.59l7.78-7.78 2.81-2.81c.8-.78.8-2.07 0-2.86zM5.41 20L4 18.59l7.72-7.72 1.47 1.35L5.41 20z\"/>\n",
              "  </svg>\n",
              "      </button>\n",
              "      \n",
              "  <style>\n",
              "    .colab-df-container {\n",
              "      display:flex;\n",
              "      flex-wrap:wrap;\n",
              "      gap: 12px;\n",
              "    }\n",
              "\n",
              "    .colab-df-convert {\n",
              "      background-color: #E8F0FE;\n",
              "      border: none;\n",
              "      border-radius: 50%;\n",
              "      cursor: pointer;\n",
              "      display: none;\n",
              "      fill: #1967D2;\n",
              "      height: 32px;\n",
              "      padding: 0 0 0 0;\n",
              "      width: 32px;\n",
              "    }\n",
              "\n",
              "    .colab-df-convert:hover {\n",
              "      background-color: #E2EBFA;\n",
              "      box-shadow: 0px 1px 2px rgba(60, 64, 67, 0.3), 0px 1px 3px 1px rgba(60, 64, 67, 0.15);\n",
              "      fill: #174EA6;\n",
              "    }\n",
              "\n",
              "    [theme=dark] .colab-df-convert {\n",
              "      background-color: #3B4455;\n",
              "      fill: #D2E3FC;\n",
              "    }\n",
              "\n",
              "    [theme=dark] .colab-df-convert:hover {\n",
              "      background-color: #434B5C;\n",
              "      box-shadow: 0px 1px 3px 1px rgba(0, 0, 0, 0.15);\n",
              "      filter: drop-shadow(0px 1px 2px rgba(0, 0, 0, 0.3));\n",
              "      fill: #FFFFFF;\n",
              "    }\n",
              "  </style>\n",
              "\n",
              "      <script>\n",
              "        const buttonEl =\n",
              "          document.querySelector('#df-1bbffd66-d922-4129-aab8-1fdc01ac1e8e button.colab-df-convert');\n",
              "        buttonEl.style.display =\n",
              "          google.colab.kernel.accessAllowed ? 'block' : 'none';\n",
              "\n",
              "        async function convertToInteractive(key) {\n",
              "          const element = document.querySelector('#df-1bbffd66-d922-4129-aab8-1fdc01ac1e8e');\n",
              "          const dataTable =\n",
              "            await google.colab.kernel.invokeFunction('convertToInteractive',\n",
              "                                                     [key], {});\n",
              "          if (!dataTable) return;\n",
              "\n",
              "          const docLinkHtml = 'Like what you see? Visit the ' +\n",
              "            '<a target=\"_blank\" href=https://colab.research.google.com/notebooks/data_table.ipynb>data table notebook</a>'\n",
              "            + ' to learn more about interactive tables.';\n",
              "          element.innerHTML = '';\n",
              "          dataTable['output_type'] = 'display_data';\n",
              "          await google.colab.output.renderOutput(dataTable, element);\n",
              "          const docLink = document.createElement('div');\n",
              "          docLink.innerHTML = docLinkHtml;\n",
              "          element.appendChild(docLink);\n",
              "        }\n",
              "      </script>\n",
              "    </div>\n",
              "  </div>\n",
              "  "
            ]
          },
          "metadata": {}
        },
        {
          "output_type": "display_data",
          "data": {
            "text/plain": [
              "          V16       V18        V5       V14        V7        V4       V15  \\\n",
              "V16  1.000000  0.415693  0.277646  0.475581  0.277579  0.539856 -0.544747   \n",
              "V18  0.415693  1.000000  0.674067  0.613600  0.674085  0.710359 -0.656818   \n",
              "V5   0.277646  0.674067  1.000000  0.645146  0.999993  0.728755 -0.628915   \n",
              "V14  0.475581  0.613600  0.645146  1.000000  0.645094  0.642297 -0.653745   \n",
              "V7   0.277579  0.674085  0.999993  0.645094  1.000000  0.728737 -0.628874   \n",
              "V4   0.539856  0.710359  0.728755  0.642297  0.728737  1.000000 -0.668517   \n",
              "V15 -0.544747 -0.656818 -0.628915 -0.653745 -0.628874 -0.668517  1.000000   \n",
              "V12  0.387430  0.561519  0.480951  0.492784  0.480955  0.531727 -0.717055   \n",
              "V17  0.139626  0.384435  0.410539  0.072825  0.410587  0.491656 -0.331359   \n",
              "\n",
              "          V12       V17  \n",
              "V16  0.387430  0.139626  \n",
              "V18  0.561519  0.384435  \n",
              "V5   0.480951  0.410539  \n",
              "V14  0.492784  0.072825  \n",
              "V7   0.480955  0.410587  \n",
              "V4   0.531727  0.491656  \n",
              "V15 -0.717055 -0.331359  \n",
              "V12  1.000000  0.271312  \n",
              "V17  0.271312  1.000000  "
            ],
            "text/html": [
              "\n",
              "  <div id=\"df-b06161e2-3e8e-4aec-b85e-4e9edcf5fe4a\">\n",
              "    <div class=\"colab-df-container\">\n",
              "      <div>\n",
              "<style scoped>\n",
              "    .dataframe tbody tr th:only-of-type {\n",
              "        vertical-align: middle;\n",
              "    }\n",
              "\n",
              "    .dataframe tbody tr th {\n",
              "        vertical-align: top;\n",
              "    }\n",
              "\n",
              "    .dataframe thead th {\n",
              "        text-align: right;\n",
              "    }\n",
              "</style>\n",
              "<table border=\"1\" class=\"dataframe\">\n",
              "  <thead>\n",
              "    <tr style=\"text-align: right;\">\n",
              "      <th></th>\n",
              "      <th>V16</th>\n",
              "      <th>V18</th>\n",
              "      <th>V5</th>\n",
              "      <th>V14</th>\n",
              "      <th>V7</th>\n",
              "      <th>V4</th>\n",
              "      <th>V15</th>\n",
              "      <th>V12</th>\n",
              "      <th>V17</th>\n",
              "    </tr>\n",
              "  </thead>\n",
              "  <tbody>\n",
              "    <tr>\n",
              "      <th>V16</th>\n",
              "      <td>1.000000</td>\n",
              "      <td>0.415693</td>\n",
              "      <td>0.277646</td>\n",
              "      <td>0.475581</td>\n",
              "      <td>0.277579</td>\n",
              "      <td>0.539856</td>\n",
              "      <td>-0.544747</td>\n",
              "      <td>0.387430</td>\n",
              "      <td>0.139626</td>\n",
              "    </tr>\n",
              "    <tr>\n",
              "      <th>V18</th>\n",
              "      <td>0.415693</td>\n",
              "      <td>1.000000</td>\n",
              "      <td>0.674067</td>\n",
              "      <td>0.613600</td>\n",
              "      <td>0.674085</td>\n",
              "      <td>0.710359</td>\n",
              "      <td>-0.656818</td>\n",
              "      <td>0.561519</td>\n",
              "      <td>0.384435</td>\n",
              "    </tr>\n",
              "    <tr>\n",
              "      <th>V5</th>\n",
              "      <td>0.277646</td>\n",
              "      <td>0.674067</td>\n",
              "      <td>1.000000</td>\n",
              "      <td>0.645146</td>\n",
              "      <td>0.999993</td>\n",
              "      <td>0.728755</td>\n",
              "      <td>-0.628915</td>\n",
              "      <td>0.480951</td>\n",
              "      <td>0.410539</td>\n",
              "    </tr>\n",
              "    <tr>\n",
              "      <th>V14</th>\n",
              "      <td>0.475581</td>\n",
              "      <td>0.613600</td>\n",
              "      <td>0.645146</td>\n",
              "      <td>1.000000</td>\n",
              "      <td>0.645094</td>\n",
              "      <td>0.642297</td>\n",
              "      <td>-0.653745</td>\n",
              "      <td>0.492784</td>\n",
              "      <td>0.072825</td>\n",
              "    </tr>\n",
              "    <tr>\n",
              "      <th>V7</th>\n",
              "      <td>0.277579</td>\n",
              "      <td>0.674085</td>\n",
              "      <td>0.999993</td>\n",
              "      <td>0.645094</td>\n",
              "      <td>1.000000</td>\n",
              "      <td>0.728737</td>\n",
              "      <td>-0.628874</td>\n",
              "      <td>0.480955</td>\n",
              "      <td>0.410587</td>\n",
              "    </tr>\n",
              "    <tr>\n",
              "      <th>V4</th>\n",
              "      <td>0.539856</td>\n",
              "      <td>0.710359</td>\n",
              "      <td>0.728755</td>\n",
              "      <td>0.642297</td>\n",
              "      <td>0.728737</td>\n",
              "      <td>1.000000</td>\n",
              "      <td>-0.668517</td>\n",
              "      <td>0.531727</td>\n",
              "      <td>0.491656</td>\n",
              "    </tr>\n",
              "    <tr>\n",
              "      <th>V15</th>\n",
              "      <td>-0.544747</td>\n",
              "      <td>-0.656818</td>\n",
              "      <td>-0.628915</td>\n",
              "      <td>-0.653745</td>\n",
              "      <td>-0.628874</td>\n",
              "      <td>-0.668517</td>\n",
              "      <td>1.000000</td>\n",
              "      <td>-0.717055</td>\n",
              "      <td>-0.331359</td>\n",
              "    </tr>\n",
              "    <tr>\n",
              "      <th>V12</th>\n",
              "      <td>0.387430</td>\n",
              "      <td>0.561519</td>\n",
              "      <td>0.480951</td>\n",
              "      <td>0.492784</td>\n",
              "      <td>0.480955</td>\n",
              "      <td>0.531727</td>\n",
              "      <td>-0.717055</td>\n",
              "      <td>1.000000</td>\n",
              "      <td>0.271312</td>\n",
              "    </tr>\n",
              "    <tr>\n",
              "      <th>V17</th>\n",
              "      <td>0.139626</td>\n",
              "      <td>0.384435</td>\n",
              "      <td>0.410539</td>\n",
              "      <td>0.072825</td>\n",
              "      <td>0.410587</td>\n",
              "      <td>0.491656</td>\n",
              "      <td>-0.331359</td>\n",
              "      <td>0.271312</td>\n",
              "      <td>1.000000</td>\n",
              "    </tr>\n",
              "  </tbody>\n",
              "</table>\n",
              "</div>\n",
              "      <button class=\"colab-df-convert\" onclick=\"convertToInteractive('df-b06161e2-3e8e-4aec-b85e-4e9edcf5fe4a')\"\n",
              "              title=\"Convert this dataframe to an interactive table.\"\n",
              "              style=\"display:none;\">\n",
              "        \n",
              "  <svg xmlns=\"http://www.w3.org/2000/svg\" height=\"24px\"viewBox=\"0 0 24 24\"\n",
              "       width=\"24px\">\n",
              "    <path d=\"M0 0h24v24H0V0z\" fill=\"none\"/>\n",
              "    <path d=\"M18.56 5.44l.94 2.06.94-2.06 2.06-.94-2.06-.94-.94-2.06-.94 2.06-2.06.94zm-11 1L8.5 8.5l.94-2.06 2.06-.94-2.06-.94L8.5 2.5l-.94 2.06-2.06.94zm10 10l.94 2.06.94-2.06 2.06-.94-2.06-.94-.94-2.06-.94 2.06-2.06.94z\"/><path d=\"M17.41 7.96l-1.37-1.37c-.4-.4-.92-.59-1.43-.59-.52 0-1.04.2-1.43.59L10.3 9.45l-7.72 7.72c-.78.78-.78 2.05 0 2.83L4 21.41c.39.39.9.59 1.41.59.51 0 1.02-.2 1.41-.59l7.78-7.78 2.81-2.81c.8-.78.8-2.07 0-2.86zM5.41 20L4 18.59l7.72-7.72 1.47 1.35L5.41 20z\"/>\n",
              "  </svg>\n",
              "      </button>\n",
              "      \n",
              "  <style>\n",
              "    .colab-df-container {\n",
              "      display:flex;\n",
              "      flex-wrap:wrap;\n",
              "      gap: 12px;\n",
              "    }\n",
              "\n",
              "    .colab-df-convert {\n",
              "      background-color: #E8F0FE;\n",
              "      border: none;\n",
              "      border-radius: 50%;\n",
              "      cursor: pointer;\n",
              "      display: none;\n",
              "      fill: #1967D2;\n",
              "      height: 32px;\n",
              "      padding: 0 0 0 0;\n",
              "      width: 32px;\n",
              "    }\n",
              "\n",
              "    .colab-df-convert:hover {\n",
              "      background-color: #E2EBFA;\n",
              "      box-shadow: 0px 1px 2px rgba(60, 64, 67, 0.3), 0px 1px 3px 1px rgba(60, 64, 67, 0.15);\n",
              "      fill: #174EA6;\n",
              "    }\n",
              "\n",
              "    [theme=dark] .colab-df-convert {\n",
              "      background-color: #3B4455;\n",
              "      fill: #D2E3FC;\n",
              "    }\n",
              "\n",
              "    [theme=dark] .colab-df-convert:hover {\n",
              "      background-color: #434B5C;\n",
              "      box-shadow: 0px 1px 3px 1px rgba(0, 0, 0, 0.15);\n",
              "      filter: drop-shadow(0px 1px 2px rgba(0, 0, 0, 0.3));\n",
              "      fill: #FFFFFF;\n",
              "    }\n",
              "  </style>\n",
              "\n",
              "      <script>\n",
              "        const buttonEl =\n",
              "          document.querySelector('#df-b06161e2-3e8e-4aec-b85e-4e9edcf5fe4a button.colab-df-convert');\n",
              "        buttonEl.style.display =\n",
              "          google.colab.kernel.accessAllowed ? 'block' : 'none';\n",
              "\n",
              "        async function convertToInteractive(key) {\n",
              "          const element = document.querySelector('#df-b06161e2-3e8e-4aec-b85e-4e9edcf5fe4a');\n",
              "          const dataTable =\n",
              "            await google.colab.kernel.invokeFunction('convertToInteractive',\n",
              "                                                     [key], {});\n",
              "          if (!dataTable) return;\n",
              "\n",
              "          const docLinkHtml = 'Like what you see? Visit the ' +\n",
              "            '<a target=\"_blank\" href=https://colab.research.google.com/notebooks/data_table.ipynb>data table notebook</a>'\n",
              "            + ' to learn more about interactive tables.';\n",
              "          element.innerHTML = '';\n",
              "          dataTable['output_type'] = 'display_data';\n",
              "          await google.colab.output.renderOutput(dataTable, element);\n",
              "          const docLink = document.createElement('div');\n",
              "          docLink.innerHTML = docLinkHtml;\n",
              "          element.appendChild(docLink);\n",
              "        }\n",
              "      </script>\n",
              "    </div>\n",
              "  </div>\n",
              "  "
            ]
          },
          "metadata": {}
        }
      ]
    },
    {
      "cell_type": "code",
      "source": [
        "dados_corr = dados[n_preditoras].corr('pearson')\n",
        "retirar=[]\n",
        "analisada = []\n",
        "for c in dados_corr.columns:\n",
        "  res = dados_corr[dados_corr[c]>=0.9]\n",
        "  sai=[]\n",
        "  for i in res.index.to_list():\n",
        "    if i in retirar: break\n",
        "    if i!=c: sai.append(c)\n",
        "  if len(sai)>0:\n",
        "    retirar.append(c)"
      ],
      "metadata": {
        "id": "JAL1ZfMjtlvF"
      },
      "execution_count": 111,
      "outputs": []
    },
    {
      "cell_type": "code",
      "source": [
        "n_preditoras = [c for c in n_preditoras if not c in retirar]"
      ],
      "metadata": {
        "id": "h_NYIZv8thKl"
      },
      "execution_count": 115,
      "outputs": []
    },
    {
      "cell_type": "code",
      "source": [
        "n_preditoras"
      ],
      "metadata": {
        "colab": {
          "base_uri": "https://localhost:8080/"
        },
        "id": "3Vu9WMhLubZr",
        "outputId": "21923c27-0bab-473e-ff63-55b8fbb09edc"
      },
      "execution_count": 116,
      "outputs": [
        {
          "output_type": "execute_result",
          "data": {
            "text/plain": [
              "['V16', 'V18', 'V5', 'V14', 'V7', 'V4', 'V15', 'V12', 'V17']"
            ]
          },
          "metadata": {},
          "execution_count": 116
        }
      ]
    },
    {
      "cell_type": "code",
      "source": [
        "sns.pairplot(dados[(','.join(n_preditoras) + ',score').split(',')])\n",
        "plt.show()"
      ],
      "metadata": {
        "id": "N4lw1EuHs0cN"
      },
      "execution_count": null,
      "outputs": []
    },
    {
      "cell_type": "code",
      "source": [
        "sns.boxplot(data=dfTrain[['score']], orient='h')\n"
      ],
      "metadata": {
        "colab": {
          "base_uri": "https://localhost:8080/",
          "height": 517
        },
        "id": "-EYOAHcWu6_f",
        "outputId": "61f06243-1e73-4ec8-9415-9919f22672df"
      },
      "execution_count": 75,
      "outputs": [
        {
          "output_type": "execute_result",
          "data": {
            "text/plain": [
              "<matplotlib.axes._subplots.AxesSubplot at 0x7f217618fb50>"
            ]
          },
          "metadata": {},
          "execution_count": 75
        },
        {
          "output_type": "display_data",
          "data": {
            "text/plain": [
              "<Figure size 842.4x595.44 with 1 Axes>"
            ],
            "image/png": "[encoded data removed]"
          },
          "metadata": {}
        }
      ]
    },
    {
      "cell_type": "code",
      "source": [
        "#box plot antes dos outliers\n",
        "imprimeBoxPlot(dfTrain, n_preditoras, 'com outliers')\n",
        "#box plot sem os outliers\n",
        "imprimeBoxPlot(dados, n_preditoras, 'sem outliers')"
      ],
      "metadata": {
        "colab": {
          "base_uri": "https://localhost:8080/",
          "height": 811
        },
        "id": "umkFscsCDfIK",
        "outputId": "f7109cb6-74b4-45d6-ac58-1c65aa57b327"
      },
      "execution_count": 118,
      "outputs": [
        {
          "output_type": "error",
          "ename": "IndexError",
          "evalue": "ignored",
          "traceback": [
            "\u001b[0;31m---------------------------------------------------------------------------\u001b[0m",
            "\u001b[0;31mIndexError\u001b[0m                                Traceback (most recent call last)",
            "\u001b[0;32m<ipython-input-118-fdc080067bda>\u001b[0m in \u001b[0;36m<module>\u001b[0;34m()\u001b[0m\n\u001b[1;32m      1\u001b[0m \u001b[0;31m#box plot antes dos outliers\u001b[0m\u001b[0;34m\u001b[0m\u001b[0;34m\u001b[0m\u001b[0;34m\u001b[0m\u001b[0m\n\u001b[0;32m----> 2\u001b[0;31m \u001b[0mimprimeBoxPlot\u001b[0m\u001b[0;34m(\u001b[0m\u001b[0mdfTrain\u001b[0m\u001b[0;34m,\u001b[0m \u001b[0mn_preditoras\u001b[0m\u001b[0;34m,\u001b[0m \u001b[0;34m'com outliers'\u001b[0m\u001b[0;34m)\u001b[0m\u001b[0;34m\u001b[0m\u001b[0;34m\u001b[0m\u001b[0m\n\u001b[0m\u001b[1;32m      3\u001b[0m \u001b[0;31m#box plot sem os outliers\u001b[0m\u001b[0;34m\u001b[0m\u001b[0;34m\u001b[0m\u001b[0;34m\u001b[0m\u001b[0m\n\u001b[1;32m      4\u001b[0m \u001b[0mimprimeBoxPlot\u001b[0m\u001b[0;34m(\u001b[0m\u001b[0mdados\u001b[0m\u001b[0;34m,\u001b[0m \u001b[0mn_preditoras\u001b[0m\u001b[0;34m,\u001b[0m \u001b[0;34m'sem outliers'\u001b[0m\u001b[0;34m)\u001b[0m\u001b[0;34m\u001b[0m\u001b[0;34m\u001b[0m\u001b[0m\n",
            "\u001b[0;32m<ipython-input-87-dbf3dda5165f>\u001b[0m in \u001b[0;36mimprimeBoxPlot\u001b[0;34m(dfTrain, n_preditoras, title)\u001b[0m\n\u001b[1;32m      7\u001b[0m     \u001b[0mk\u001b[0m\u001b[0;34m=\u001b[0m\u001b[0mi\u001b[0m\u001b[0;34m%\u001b[0m\u001b[0;36m3\u001b[0m\u001b[0;34m\u001b[0m\u001b[0;34m\u001b[0m\u001b[0m\n\u001b[1;32m      8\u001b[0m     \u001b[0mdata\u001b[0m \u001b[0;34m=\u001b[0m \u001b[0mdfTrain\u001b[0m\u001b[0;34m[\u001b[0m\u001b[0;34m[\u001b[0m\u001b[0mc\u001b[0m\u001b[0;34m]\u001b[0m\u001b[0;34m]\u001b[0m\u001b[0;34m\u001b[0m\u001b[0;34m\u001b[0m\u001b[0m\n\u001b[0;32m----> 9\u001b[0;31m     \u001b[0msns\u001b[0m\u001b[0;34m.\u001b[0m\u001b[0mboxplot\u001b[0m\u001b[0;34m(\u001b[0m\u001b[0mdata\u001b[0m\u001b[0;34m=\u001b[0m\u001b[0mdata\u001b[0m\u001b[0;34m,\u001b[0m \u001b[0morient\u001b[0m\u001b[0;34m=\u001b[0m\u001b[0;34m'h'\u001b[0m\u001b[0;34m,\u001b[0m \u001b[0max\u001b[0m\u001b[0;34m=\u001b[0m\u001b[0max\u001b[0m\u001b[0;34m[\u001b[0m\u001b[0mj\u001b[0m\u001b[0;34m,\u001b[0m\u001b[0mk\u001b[0m\u001b[0;34m]\u001b[0m\u001b[0;34m)\u001b[0m\u001b[0;34m.\u001b[0m\u001b[0mset_title\u001b[0m\u001b[0;34m(\u001b[0m\u001b[0mc\u001b[0m \u001b[0;34m+\u001b[0m \u001b[0;34m\" - \"\u001b[0m \u001b[0;34m+\u001b[0m \u001b[0mtitle\u001b[0m\u001b[0;34m)\u001b[0m\u001b[0;34m\u001b[0m\u001b[0;34m\u001b[0m\u001b[0m\n\u001b[0m\u001b[1;32m     10\u001b[0m \u001b[0;34m\u001b[0m\u001b[0m\n\u001b[1;32m     11\u001b[0m \u001b[0;32mdef\u001b[0m \u001b[0mimprimeScatter\u001b[0m\u001b[0;34m(\u001b[0m\u001b[0mdados\u001b[0m\u001b[0;34m,\u001b[0m \u001b[0mn_preditoras\u001b[0m\u001b[0;34m,\u001b[0m \u001b[0mtitle\u001b[0m\u001b[0;34m=\u001b[0m\u001b[0;32mNone\u001b[0m\u001b[0;34m)\u001b[0m\u001b[0;34m:\u001b[0m\u001b[0;34m\u001b[0m\u001b[0;34m\u001b[0m\u001b[0m\n",
            "\u001b[0;31mIndexError\u001b[0m: index 5 is out of bounds for axis 0 with size 5"
          ]
        },
        {
          "output_type": "display_data",
          "data": {
            "text/plain": [
              "<Figure size 864x576 with 15 Axes>"
            ],
            "image/png": "[encoded data removed]"
          },
          "metadata": {}
        }
      ]
    },
    {
      "cell_type": "code",
      "source": [
        "n_preditoras"
      ],
      "metadata": {
        "colab": {
          "base_uri": "https://localhost:8080/"
        },
        "id": "RHm4Qzorkg-w",
        "outputId": "74a1fa64-17d1-48c1-ff32-624f03ff310e"
      },
      "execution_count": 77,
      "outputs": [
        {
          "output_type": "execute_result",
          "data": {
            "text/plain": [
              "['V14', 'V7', 'V4', 'V15', 'V11', 'V12', 'V17']"
            ]
          },
          "metadata": {},
          "execution_count": 77
        }
      ]
    },
    {
      "cell_type": "code",
      "source": [
        "#for c in n_preditoras:\n",
        "#  dados[c] = dados[c].map(lambda x: np.log(x))"
      ],
      "metadata": {
        "id": "1LOk6rqRiQbx"
      },
      "execution_count": null,
      "outputs": []
    },
    {
      "cell_type": "code",
      "source": [
        ""
      ],
      "metadata": {
        "id": "Xk6RBLgkilAP"
      },
      "execution_count": null,
      "outputs": []
    },
    {
      "cell_type": "code",
      "source": [
        "from sklearn.decomposition import PCA\n",
        "###########\n",
        "# projecting data in 2D\n",
        "###########\n",
        "X = dados[n_preditoras]\n",
        "pca_proj=PCA(n_components=2)\n",
        "data_2d=pca_proj.fit_transform(X)\n",
        "print(data_2d.shape)\n",
        "\n",
        "plt.scatter(data_2d[:,0],data_2d[:,1])\n"
      ],
      "metadata": {
        "id": "hSytsJ-kZr9w"
      },
      "execution_count": null,
      "outputs": []
    },
    {
      "cell_type": "code",
      "source": [
        "X = dados[n_preditoras]\n",
        "y = dados['score']\n",
        "X_treino, X_teste, y_treino, y_teste = train_test_split(X, y, test_size=0.2, random_state = 123)"
      ],
      "metadata": {
        "id": "vtZcWfpybYko"
      },
      "execution_count": null,
      "outputs": []
    },
    {
      "cell_type": "code",
      "source": [
        "dados_t = pd.DataFrame(X_treino, columns=n_preditoras)\n",
        "dados_t['score'] = y_treino"
      ],
      "metadata": {
        "id": "GdrbMQeya1GX"
      },
      "execution_count": null,
      "outputs": []
    },
    {
      "cell_type": "code",
      "source": [
        "#Ajusta o modelo de regressão linear múltipla para o score\n",
        "\n",
        "modelo = ols('score ~ ' + ' + '.join(n_preditoras) ,data=dados_t)\n",
        "\n",
        "res = modelo.fit()\n",
        "print(res.summary())"
      ],
      "metadata": {
        "id": "uX-GBL4k1ybm"
      },
      "execution_count": null,
      "outputs": []
    },
    {
      "cell_type": "code",
      "source": [
        "#from sklearn.preprocessing import StandardScaler\n",
        "#from sklearn.preprocessing import MinMaxScaler\n",
        "#scaled_features = StandardScaler().fit_transform(dados)\n",
        "#scaled_features = MinMaxScaler().fit_transform(dados)\n",
        "#dados = pd.DataFrame(scaled_features, columns=dados.columns)"
      ],
      "metadata": {
        "id": "Qeeitw02FMFh"
      },
      "execution_count": null,
      "outputs": []
    },
    {
      "cell_type": "code",
      "source": [
        "modelo = ols('score ~ ' + ' + '.join(n_preditoras) ,data=dados)\n",
        "\n",
        "res = modelo.fit()\n",
        "print(res.summary())\n"
      ],
      "metadata": {
        "id": "61bnBAkr2KFu"
      },
      "execution_count": null,
      "outputs": []
    },
    {
      "cell_type": "code",
      "source": [
        ""
      ],
      "metadata": {
        "id": "mmNUB9iRrsyB"
      },
      "execution_count": null,
      "outputs": []
    }
  ]
}