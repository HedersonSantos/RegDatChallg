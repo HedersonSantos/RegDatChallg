{
  "nbformat": 4,
  "nbformat_minor": 0,
  "metadata": {
    "colab": {
      "name": "Untitled7.ipynb",
      "provenance": [],
      "authorship_tag": "ABX9TyMq5OPjeahbRommP0V95XAY",
      "include_colab_link": true
    },
    "kernelspec": {
      "name": "python3",
      "display_name": "Python 3"
    },
    "language_info": {
      "name": "python"
    }
  },
  "cells": [
    {
      "cell_type": "markdown",
      "metadata": {
        "id": "view-in-github",
        "colab_type": "text"
      },
      "source": [
        "<a href=\"https://colab.research.google.com/github/HedersonSantos/RegDatChallg/blob/main/analise.ipynb\" target=\"_parent\"><img src=\"https://colab.research.google.com/assets/colab-badge.svg\" alt=\"Open In Colab\"/></a>"
      ]
    },
    {
      "cell_type": "code",
      "execution_count": 10,
      "metadata": {
        "id": "ybDpxspEewP1",
        "outputId": "a630e860-7a61-4b06-f2cc-4f9f68c2f807",
        "colab": {
          "base_uri": "https://localhost:8080/"
        }
      },
      "outputs": [
        {
          "output_type": "stream",
          "name": "stderr",
          "text": [
            "/usr/local/lib/python3.7/dist-packages/statsmodels/tools/_testing.py:19: FutureWarning: pandas.util.testing is deprecated. Use the functions in the public API at pandas.testing instead.\n",
            "  import pandas.util.testing as tm\n"
          ]
        }
      ],
      "source": [
        "import pandas as pd\n",
        "import numpy as np\n",
        "from google.colab import files, drive\n",
        "from pathlib import Path\n",
        "from sklearn.model_selection import train_test_split\n",
        "import matplotlib.pyplot as plt\n",
        "from statsmodels.formula.api import ols\n",
        "\n",
        "import seaborn as sns\n",
        "sns.set(rc={'figure.figsize':(11.7,8.27)})\n",
        "palette = sns.color_palette(\"bright\", 10)\n",
        "pd.set_option('display.max_columns', None)\n",
        "pd.set_option('display.max_rows', None)"
      ]
    },
    {
      "cell_type": "code",
      "source": [
        "#obtendo os arquivos de dados\n",
        "!wget https://raw.githubusercontent.com/HedersonSantos/RegDatChallg/main/data/train.csv\n",
        "!wget https://raw.githubusercontent.com/HedersonSantos/RegDatChallg/main/data/test.csv"
      ],
      "metadata": {
        "colab": {
          "base_uri": "https://localhost:8080/"
        },
        "id": "pyuET4BNhmUK",
        "outputId": "6f13d5e5-a70a-418a-d2c7-a854e94a15e3"
      },
      "execution_count": 2,
      "outputs": [
        {
          "output_type": "stream",
          "name": "stdout",
          "text": [
            "--2022-03-22 22:50:54--  https://raw.githubusercontent.com/HedersonSantos/RegDatChallg/main/data/train.csv\n",
            "Resolving raw.githubusercontent.com (raw.githubusercontent.com)... 185.199.108.133, 185.199.109.133, 185.199.110.133, ...\n",
            "Connecting to raw.githubusercontent.com (raw.githubusercontent.com)|185.199.108.133|:443... connected.\n",
            "HTTP request sent, awaiting response... 200 OK\n",
            "Length: 1397869 (1.3M) [text/plain]\n",
            "Saving to: ‘train.csv.1’\n",
            "\n",
            "\rtrain.csv.1           0%[                    ]       0  --.-KB/s               \rtrain.csv.1         100%[===================>]   1.33M  --.-KB/s    in 0.06s   \n",
            "\n",
            "2022-03-22 22:50:55 (24.0 MB/s) - ‘train.csv.1’ saved [1397869/1397869]\n",
            "\n",
            "--2022-03-22 22:50:55--  https://raw.githubusercontent.com/HedersonSantos/RegDatChallg/main/data/test.csv\n",
            "Resolving raw.githubusercontent.com (raw.githubusercontent.com)... 185.199.111.133, 185.199.109.133, 185.199.110.133, ...\n",
            "Connecting to raw.githubusercontent.com (raw.githubusercontent.com)|185.199.111.133|:443... connected.\n",
            "HTTP request sent, awaiting response... 200 OK\n",
            "Length: 573899 (560K) [text/plain]\n",
            "Saving to: ‘test.csv.1’\n",
            "\n",
            "test.csv.1          100%[===================>] 560.45K  --.-KB/s    in 0.04s   \n",
            "\n",
            "2022-03-22 22:50:55 (12.9 MB/s) - ‘test.csv.1’ saved [573899/573899]\n",
            "\n"
          ]
        }
      ]
    },
    {
      "cell_type": "code",
      "source": [
        "dfTrain = pd.read_csv('train.csv')\n",
        "dfTest = pd.read_csv('test.csv')\n",
        "dfTrain.info()"
      ],
      "metadata": {
        "id": "hjcDMMMccS4J",
        "outputId": "8e3e0c66-a65b-428a-f8a2-31654910af08",
        "colab": {
          "base_uri": "https://localhost:8080/"
        }
      },
      "execution_count": 22,
      "outputs": [
        {
          "output_type": "stream",
          "name": "stdout",
          "text": [
            "<class 'pandas.core.frame.DataFrame'>\n",
            "RangeIndex: 4141 entries, 0 to 4140\n",
            "Data columns (total 29 columns):\n",
            " #   Column  Non-Null Count  Dtype  \n",
            "---  ------  --------------  -----  \n",
            " 0   Id      4141 non-null   int64  \n",
            " 1   score   4141 non-null   float64\n",
            " 2   V3      4141 non-null   float64\n",
            " 3   V4      4141 non-null   float64\n",
            " 4   V5      4141 non-null   float64\n",
            " 5   V6      4141 non-null   float64\n",
            " 6   V7      4141 non-null   float64\n",
            " 7   V8      4141 non-null   float64\n",
            " 8   V9      4141 non-null   float64\n",
            " 9   V10     4141 non-null   float64\n",
            " 10  V11     4141 non-null   float64\n",
            " 11  V12     4141 non-null   float64\n",
            " 12  V13     4141 non-null   float64\n",
            " 13  V14     4141 non-null   float64\n",
            " 14  V15     4141 non-null   float64\n",
            " 15  V16     4141 non-null   float64\n",
            " 16  V17     4141 non-null   float64\n",
            " 17  V18     4141 non-null   float64\n",
            " 18  V19     4141 non-null   float64\n",
            " 19  V20     4141 non-null   float64\n",
            " 20  V21     4141 non-null   float64\n",
            " 21  V22     4141 non-null   float64\n",
            " 22  V23     4141 non-null   float64\n",
            " 23  V24     4141 non-null   float64\n",
            " 24  V25     4141 non-null   float64\n",
            " 25  V26     4141 non-null   float64\n",
            " 26  V27     4141 non-null   float64\n",
            " 27  V28     4141 non-null   float64\n",
            " 28  V29     4141 non-null   float64\n",
            "dtypes: float64(28), int64(1)\n",
            "memory usage: 938.3 KB\n"
          ]
        }
      ]
    },
    {
      "cell_type": "code",
      "source": [
        "preditoras = ['V3', 'V4', 'V5', 'V6', 'V7', 'V8', 'V9', 'V10', 'V11',\n",
        "       'V12', 'V13', 'V14', 'V15', 'V16', 'V17', 'V18', 'V19', 'V20', 'V21',\n",
        "       'V22', 'V23', 'V24', 'V25', 'V26', 'V27', 'V28', 'V29']\n",
        "X_treino = dfTrain[preditoras].values\n",
        "y_treino= dfTrain['score'].values"
      ],
      "metadata": {
        "id": "u9zr-_Mbkp0n"
      },
      "execution_count": 13,
      "outputs": []
    },
    {
      "cell_type": "code",
      "source": [
        "from sklearn.feature_selection import SelectKBest\n",
        "from sklearn.feature_selection import mutual_info_regression\n",
        "# feature selection\n",
        "def select_features(X_treino, y_treino, X_teste):\n",
        "\t# configure to select all features\n",
        "\tfs = SelectKBest(score_func=mutual_info_regression, k='all')\n",
        "\t# learn relationship from treinoing data\n",
        "\tfs.fit(X_treino, y_treino)\n",
        "\t# transform treino input data\n",
        "\tX_treino_fs = fs.transform(X_treino)\n",
        "\t# transform teste input data\n",
        "\tX_teste_fs = fs.transform(X_teste)\n",
        "\treturn X_treino_fs, X_teste_fs, fs\n"
      ],
      "metadata": {
        "id": "gsdnjVzd4Gr3"
      },
      "execution_count": null,
      "outputs": []
    },
    {
      "cell_type": "code",
      "source": [
        "# feature selection\n",
        "X_treino_fs, X_teste_fs, fs = select_features(X_treino, y_treino, X_teste)\n",
        "\n",
        "# what are scores for the features\n",
        "for i in range(len(fs.scores_)):\n",
        "\tprint('Feature %d: %f' % (i, fs.scores_[i]))\n",
        "    \n",
        "# plot the scores\n",
        "pyplot.bar([i for i in range(len(fs.scores_))], fs.scores_)\n",
        "pyplot.show()"
      ],
      "metadata": {
        "id": "z3jLuBbU4cV-"
      },
      "execution_count": null,
      "outputs": []
    },
    {
      "cell_type": "code",
      "source": [
        "#Ajusta o modelo de regressão linear múltipla para o score\n",
        "\n",
        "modelo = ols('score ~ ' + ' + '.join(preditoras) ,data=dfTrain)\n",
        "\n",
        "res = modelo.fit()\n",
        "print(res.summary())"
      ],
      "metadata": {
        "id": "uX-GBL4k1ybm",
        "outputId": "c8585ba6-c435-41ef-9d75-c9f6d310c1f9",
        "colab": {
          "base_uri": "https://localhost:8080/"
        }
      },
      "execution_count": 21,
      "outputs": [
        {
          "output_type": "stream",
          "name": "stdout",
          "text": [
            "                            OLS Regression Results                            \n",
            "==============================================================================\n",
            "Dep. Variable:                  score   R-squared:                       0.103\n",
            "Model:                            OLS   Adj. R-squared:                  0.097\n",
            "Method:                 Least Squares   F-statistic:                     17.54\n",
            "Date:                Tue, 22 Mar 2022   Prob (F-statistic):           3.86e-78\n",
            "Time:                        23:01:04   Log-Likelihood:                -15486.\n",
            "No. Observations:                4141   AIC:                         3.103e+04\n",
            "Df Residuals:                    4113   BIC:                         3.121e+04\n",
            "Df Model:                          27                                         \n",
            "Covariance Type:            nonrobust                                         \n",
            "==============================================================================\n",
            "                 coef    std err          t      P>|t|      [0.025      0.975]\n",
            "------------------------------------------------------------------------------\n",
            "Intercept     65.4440      3.629     18.034      0.000      58.329      72.558\n",
            "V3           214.7159    257.483      0.834      0.404    -290.089     719.521\n",
            "V4         -2.729e+04   1.18e+04     -2.308      0.021   -5.05e+04   -4110.800\n",
            "V5         -8.651e+04   5.89e+04     -1.468      0.142   -2.02e+05     2.9e+04\n",
            "V6           -13.0009    230.081     -0.057      0.955    -464.084     438.082\n",
            "V7          2.884e+04   1.96e+04      1.468      0.142   -9670.825    6.74e+04\n",
            "V8           119.1475     84.092      1.417      0.157     -45.717     284.012\n",
            "V9            -2.8186      6.167     -0.457      0.648     -14.910       9.273\n",
            "V10           6.3e+04   5.92e+04      1.064      0.287    -5.3e+04    1.79e+05\n",
            "V11         -118.2660     73.251     -1.615      0.106    -261.877      25.345\n",
            "V12           98.5128     31.513      3.126      0.002      36.731     160.295\n",
            "V13        -2.107e+04   1.97e+04     -1.068      0.286   -5.98e+04    1.76e+04\n",
            "V14          -44.3296      7.721     -5.742      0.000     -59.466     -29.193\n",
            "V15           -0.6649      0.085     -7.836      0.000      -0.831      -0.499\n",
            "V16            4.4778      2.257      1.984      0.047       0.053       8.903\n",
            "V17          -41.2012      2.822    -14.600      0.000     -46.734     -35.669\n",
            "V18           18.8777      3.697      5.106      0.000      11.630      26.126\n",
            "V19            0.0695      0.156      0.446      0.656      -0.236       0.375\n",
            "V20            0.1602      0.159      1.006      0.314      -0.152       0.473\n",
            "V21           -0.4363      0.159     -2.742      0.006      -0.748      -0.124\n",
            "V22            0.1634      0.158      1.033      0.302      -0.147       0.473\n",
            "V23            0.0711      0.161      0.442      0.659      -0.245       0.387\n",
            "V24           -0.2073      0.160     -1.297      0.195      -0.521       0.106\n",
            "V25            0.1185      0.161      0.735      0.462      -0.197       0.434\n",
            "V26            0.1120      0.155      0.722      0.470      -0.192       0.416\n",
            "V27           -0.1947      0.159     -1.224      0.221      -0.507       0.117\n",
            "V28           -0.1573      0.161     -0.977      0.329      -0.473       0.158\n",
            "V29            0.1719      0.159      1.084      0.279      -0.139       0.483\n",
            "==============================================================================\n",
            "Omnibus:                      118.083   Durbin-Watson:                   1.991\n",
            "Prob(Omnibus):                  0.000   Jarque-Bera (JB):              125.009\n",
            "Skew:                           0.413   Prob(JB):                     7.15e-28\n",
            "Kurtosis:                       2.794   Cond. No.                     8.71e+06\n",
            "==============================================================================\n",
            "\n",
            "Warnings:\n",
            "[1] Standard Errors assume that the covariance matrix of the errors is correctly specified.\n",
            "[2] The condition number is large, 8.71e+06. This might indicate that there are\n",
            "strong multicollinearity or other numerical problems.\n"
          ]
        }
      ]
    },
    {
      "cell_type": "code",
      "source": [
        ""
      ],
      "metadata": {
        "id": "61bnBAkr2KFu",
        "outputId": "335539f8-3015-443b-e1d9-12510299b144",
        "colab": {
          "base_uri": "https://localhost:8080/",
          "height": 35
        }
      },
      "execution_count": 20,
      "outputs": [
        {
          "output_type": "execute_result",
          "data": {
            "text/plain": [
              "'V3 + V4 + V5 + V6 + V7 + V8 + V9 + V10 + V11 + V12 + V13 + V14 + V15 + V16 + V17 + V18 + V19 + V20 + V21 + V22 + V23 + V24 + V25 + V26 + V27 + V28 + V29'"
            ],
            "application/vnd.google.colaboratory.intrinsic+json": {
              "type": "string"
            }
          },
          "metadata": {},
          "execution_count": 20
        }
      ]
    }
  ]
}